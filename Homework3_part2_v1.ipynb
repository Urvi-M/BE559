{
  "nbformat": 4,
  "nbformat_minor": 0,
  "metadata": {
    "colab": {
      "provenance": [],
      "include_colab_link": true
    },
    "kernelspec": {
      "name": "python3",
      "display_name": "Python 3"
    },
    "language_info": {
      "name": "python"
    }
  },
  "cells": [
    {
      "cell_type": "markdown",
      "metadata": {
        "id": "view-in-github",
        "colab_type": "text"
      },
      "source": [
        "<a href=\"https://colab.research.google.com/github/Urvi-M/BE559/blob/main/Homework3_part2_v1.ipynb\" target=\"_parent\"><img src=\"https://colab.research.google.com/assets/colab-badge.svg\" alt=\"Open In Colab\"/></a>"
      ]
    },
    {
      "cell_type": "markdown",
      "source": [
        "# Homework 3.2 (36 points)\n",
        "\n",
        "**Learning objectives:**\n",
        "\n",
        "In this assignment, we will continue our examination of methods for data classification. We will explore:\n",
        "\n",
        "*   Probabilistic discriminitive models\n",
        "*   Naive Bayes classification\n"
      ],
      "metadata": {
        "id": "DKL6Rd-IdGjV"
      }
    },
    {
      "cell_type": "markdown",
      "source": [
        "---\n",
        "\n",
        "## Part 1\n",
        "Load the same libraries that we used in previous homeworks.\n",
        "\n",
        "*   `numpy` (as `np`)\n",
        "*   `matplotlib.pyplot` (as `plt`)\n",
        "\n",
        "*   `from sklearn.discriminant_analysis import LinearDiscriminantAnalysis`\n",
        "*   `import pandas as pd`\n",
        "\n",
        "As always, now is also a good time to set the default font size to 16."
      ],
      "metadata": {
        "id": "kZOobJqtQn1g"
      }
    },
    {
      "cell_type": "code",
      "source": [
        "import numpy as np\n",
        "import matplotlib.pyplot as plt\n",
        "import pandas as pd\n",
        "from sklearn.discriminant_analysis import LinearDiscriminantAnalysis\n",
        "plt.rcParams.update({'font.size': 16})"
      ],
      "metadata": {
        "id": "9TRDfPTVuscD"
      },
      "execution_count": 1,
      "outputs": []
    },
    {
      "cell_type": "markdown",
      "source": [
        "---\n",
        "## Part 2 (2 points)\n",
        "\n",
        "First, we will continue to examine Fisher's linear discriminant, and see how we can compute the conditional probabilities of data points belonging to different classes, $P(Class | X)$.\n",
        "\n",
        "*   Load the Fisher's Iris dataset.  This famous dataset includes measurements from three related species of flowers. These data are stored in a .csv (comma separated values) file at the following URL:\n",
        "\n",
        "https://raw.githubusercontent.com/BU-BME-DataSci-ML/Spring-2023/main/Homework3/FishersIris.csv\n",
        "\n",
        "*    To do this, use the pandas function `pd.read_csv` to create a `pandas` DataFrame.\n",
        "*    Construct the variables **`sl`**, **`sw`**, and **`snum`** in the same way as described in *Homework 3.1*.\n",
        "*    Filter the entries in the three variables above so as only to include data for *Iris setosa* and *Iris versicolor* (i.e. only keep entries where **`snum`** < 2).\n",
        "*    It will also be helpful to create an additional variable **`meas`**, in which **`sl`** and **`sw`** are combined into a 2xN matrix, where N is the number of measurements.  \n"
      ],
      "metadata": {
        "id": "zuJ_6c0dWsTI"
      }
    },
    {
      "cell_type": "code",
      "source": [
        "df =pd.read_csv('https://raw.githubusercontent.com/BU-BME-DataSci-ML/Spring-2023/main/Homework3/FishersIris.csv')\n",
        "sl=np.array(df['sepallength'])\n",
        "sw=np.array(df['sepalwidth'])\n",
        "species=np.array(df['class'])\n",
        "df.replace('Iris-setosa', 0, inplace=True)\n",
        "df.replace('Iris-versicolor', 1, inplace=True)\n",
        "df.replace('Iris-virginica', 2, inplace=True)\n",
        "snum=np.array(df['class'])\n",
        "sl=sl[snum<2]\n",
        "sw =sw[snum<2]\n",
        "meas= np.array([sl,sw])\n",
        "print(np.shape(meas))"
      ],
      "metadata": {
        "id": "GJSSbi75Trjs",
        "colab": {
          "base_uri": "https://localhost:8080/"
        },
        "outputId": "b9f6d48e-5efd-4962-f0a4-a4fa4cbfd7a4"
      },
      "execution_count": 2,
      "outputs": [
        {
          "output_type": "stream",
          "name": "stdout",
          "text": [
            "(2, 100)\n"
          ]
        }
      ]
    },
    {
      "cell_type": "markdown",
      "source": [
        "---\n",
        "## Part 3 (4 points)\n",
        "\n",
        "Write a function to perform linear discriminant analysis (LDA) as in *Homework 3.1*.  This function should accept **`meas`** and **`snum`** as input arguments and return:\n",
        "\n",
        "*   **`mu`**: A 2x2 matrix containing the coordinates of the centroid of class 1 (row 1) and centroid of class 2 (row 2).\n",
        "\n",
        "*   **`C`**: The within-class covariance matrix of your data.\n",
        "\n",
        "*   **`vec`**: The (1x2) discriminant vector.\n",
        "\n",
        "Print the values in vec to ensure you get the same answer as last time."
      ],
      "metadata": {
        "id": "5nSoJJBHuEC2"
      }
    },
    {
      "cell_type": "code",
      "source": [
        "def lda(meas,snum):\n",
        "  #class centroids\n",
        "  mu1 = np.mean(meas[:, snum[0:100]== 0], axis = 1)\n",
        "  mu2 = np.mean(meas[:, snum[0:100]== 1], axis = 1)\n",
        "  # mulv = np.mean(meas[0,50:100])\n",
        "  # muwv = np.mean(meas[1,50:1000])\n",
        "  # mu2 = np.array([mulv,muwv])\n",
        "  # mu1 = np.array([muls,muws])\n",
        "  mu = np.vstack((mu1, mu2))\n",
        "\n",
        "  # within-class covariance matrix - same for each class\n",
        "  C1 = np.cov(meas[:, snum[0:100]== 0])\n",
        "  C2 = np.cov(meas[:, snum[0:100]== 1])\n",
        "  c = (C1 + C2)/2  #pooled covariance\n",
        "  print(np.shape(c))\n",
        "\n",
        "  # Compute discriminant vector\n",
        "  vec = np.dot(np.linalg.inv(c), (mu2 - mu1))\n",
        "\n",
        "  return mu,c,vec\n",
        "\n",
        "mu, c, vec = lda(meas, snum)\n",
        "print(\"Discriminant vector (vec):\", vec)\n"
      ],
      "metadata": {
        "id": "nzaIGoHsVB1X",
        "colab": {
          "base_uri": "https://localhost:8080/"
        },
        "outputId": "b28c6bdd-dbe7-497d-98b1-2cc221485c87"
      },
      "execution_count": 48,
      "outputs": [
        {
          "output_type": "stream",
          "name": "stdout",
          "text": [
            "(2, 2)\n",
            "Discriminant vector (vec): [ 11.41009783 -14.00524467]\n"
          ]
        }
      ]
    },
    {
      "cell_type": "markdown",
      "source": [
        "---\n",
        "## Part 4 (4 points)\n",
        "\n",
        "Remember that\n",
        "\n",
        "$P(C_2| x) = \\sigma(-a)$\n",
        "\n",
        "where\n",
        "\n",
        "$a = W^Tx - w_0$\n",
        "\n",
        "with\n",
        "\n",
        "$W = \\Sigma^{-1}(\\mu_2-\\mu_1)$ (the projection along the LDA vector)\n",
        "\n",
        "$w_0 = -{\\frac{1}{2}} \\mu_1^T\\Sigma^{-1}\\mu_1 + {\\frac{1}{2}} \\mu_2^T\\Sigma^{-1}\\mu_2 + ln{\\frac{P(C_1)}{P(C_2)}}$ (the threshold that separates classes along the vector)\n",
        "\n",
        "*   Calculate $P(Iris-versicolor| x)$.\n",
        "*   In the first axes, plot this probability as a function of $a$ for your data points over the corresponding logistic function.\n",
        "*   In the second axes, use `matplotlib`'s `scatter` method to plot sepal width vs. sepal length and color each point according to $P(Iris-versicolor| x)$. Set `cmap='coolwarm'` and use `fig.colorbar` to show the color scale."
      ],
      "metadata": {
        "id": "LZP_EO8Ivm4Z"
      }
    },
    {
      "cell_type": "code",
      "source": [
        "def sigmoid(x):\n",
        "    return 1 / (1 + np.exp(-x))\n",
        "\n",
        "W = np.linalg.inv(c) @ (mu[1] - mu[0])\n",
        "w0 = (-0.5 * np.dot(mu[0], np.dot(np.linalg.inv(c), mu[0]))) + (0.5 * np.dot(mu[1], np.dot(np.linalg.inv(c), mu[1]))) + (np.log(0.5/0.5))\n",
        "a_s = np.dot(W.T, meas[:, snum[0:100]== 0]) - w0\n",
        "a_v = np.dot(W.T,meas[:, snum[0:100]== 1]) - w0\n",
        "#P(Iris-versicolor|x)\n",
        "P_s = sigmoid(-a_s)\n",
        "P_v = sigmoid(-a_v)\n",
        "P_Iris_versicolor_given_x = np.array([P_v,P_s])\n",
        "print(np.max(P_s))\n",
        "\n",
        "fig, ax= plt.subplots(1, 2, figsize = (10, 4))\n",
        "ax[0].plot(np.linspace(np.min(a_s), np.max(a_v), 1000), 1 / (1 + np.exp(-np.linspace(np.min(a_s), np.max(a_v), 1000))), color='blue',alpha=0.5)\n",
        "ax[0].scatter(-a_s, P_s, marker = 'o', color='r')\n",
        "ax[0].scatter(-a_v, P_v, marker = 'o', color='b')\n",
        "\n",
        "ax[0].set_xlabel('Discriminant vector projection')\n",
        "ax[0].set_ylabel('P(versicolor)')\n",
        "\n",
        "sc = ax[1].scatter(meas[0], meas[1], c = P_Iris_versicolor_given_x, cmap = 'coolwarm')\n",
        "ax[1].set_xlabel('Sepal length (cm)')\n",
        "ax[1].set_ylabel('Sepal width (cm)')\n",
        "ax[1].set_title('P(versicolor)')\n",
        "fig.colorbar(sc, ax = ax[1])\n",
        "\n",
        "plt.tight_layout()\n",
        "plt.show()"
      ],
      "metadata": {
        "colab": {
          "base_uri": "https://localhost:8080/",
          "height": 406
        },
        "id": "gMpTzz1ukFK3",
        "outputId": "083939bf-c555-470e-f7c7-c4cc48765757"
      },
      "execution_count": 87,
      "outputs": [
        {
          "output_type": "stream",
          "name": "stdout",
          "text": [
            "0.9999999654691493\n"
          ]
        },
        {
          "output_type": "display_data",
          "data": {
            "text/plain": [
              "<Figure size 1000x400 with 3 Axes>"
            ],
            "image/png": "[encoded data removed]"
          },
          "metadata": {}
        }
      ]
    },
    {
      "cell_type": "markdown",
      "source": [
        "Great!  Now we see how we can calculate the probability that each data point belongs to each class.  Here, Our results are not cross-validated.  Our probabilistic classifier is being applied to the same data used to construct the classifier, but this process involves estimation of a small number of parameters and so the risk of cross validation is somewhat low."
      ],
      "metadata": {
        "id": "LiMH8hyUpViV"
      }
    },
    {
      "cell_type": "markdown",
      "source": [
        "---\n",
        "## Part 5 (2 points)\n",
        "\n",
        "Next, we will construct a **naive Bayes classifier** and use it to classify tweets.  We will use two datasets:\n",
        "\n",
        "1) The tweets of Donald Trump\n",
        "\n",
        "2) Tweets about Covid-19\n",
        "\n",
        "We will construct a probabilistic discriminant function that gives us the probability of tweets belonging to each set.\n",
        "\n",
        "*   Use `pd.read_csv` to load the following datasets into two dataframes\n",
        "\n",
        "https://raw.githubusercontent.com/BU-BME-DataSci-ML/Spring-2023/main/Homework3/Corona_NLP_train.csv\n",
        "https://raw.githubusercontent.com/BU-BME-DataSci-ML/Spring-2023/main/Homework3/realdonaldtrump.csv\n",
        "\n",
        "**NOTE:**  For the first dataset, you will also have to set `encoding='latin-1'` for the tweets to be read correctly.\n",
        "\n",
        "*   Create numpy arrays called `set1tweets` and `set2tweets` from the appropriate column of each dataframe (i.e. the one containing the tweet text)."
      ],
      "metadata": {
        "id": "L8qs2NkzQI09"
      }
    },
    {
      "cell_type": "code",
      "source": [
        "covid = pd.read_csv('https://raw.githubusercontent.com/BU-BME-DataSci-ML/Spring-2023/main/Homework3/Corona_NLP_train.csv', encoding = 'latin-1')\n",
        "trump = pd.read_csv('https://raw.githubusercontent.com/BU-BME-DataSci-ML/Spring-2023/main/Homework3/realdonaldtrump.csv')\n",
        "\n",
        "set1tweets = covid['OriginalTweet'].values\n",
        "set2tweets = trump['content'].values\n",
        "np.shape(set1tweets)"
      ],
      "metadata": {
        "id": "tD3wH06huivU",
        "colab": {
          "base_uri": "https://localhost:8080/"
        },
        "outputId": "5f7a1fea-e58d-4b2c-d215-27be53c07df6"
      },
      "execution_count": 64,
      "outputs": [
        {
          "output_type": "execute_result",
          "data": {
            "text/plain": [
              "(41157,)"
            ]
          },
          "metadata": {},
          "execution_count": 64
        }
      ]
    },
    {
      "cell_type": "markdown",
      "source": [
        "Below is a function that we'll use to clean up our tweets.  It makes all of the text lowercase, and removes common words, words that would be unfair to use, special characters, URLs, etc."
      ],
      "metadata": {
        "id": "g9srvgmORmS7"
      }
    },
    {
      "cell_type": "code",
      "source": [
        "import re\n",
        "stopwords = [\"that\", \"have\", \"be\", \"i\", \"with\", \"we\", \"you\", \"for\", \"on\", \"an\", \"a\", \"of\", \"and\", \"in\", \"the\", \"to\", \"from\", \"at\", \"is\", \"are\", \"it\", \"as\", \"by\", \"com\", \"or\", \"amp\", \"s\", \\\n",
        "             \"not\", \"all\", \"will\", \"my\", \"they\", \"was\", \"this\", \"has\", \"your\", \"our\", \"realdonaldtrump\", \"donald\", \"trump\", \"covid\", \"19\"]\n",
        "\n",
        "def clean_tweet(tweet):\n",
        "    if type(tweet) == float:\n",
        "        return \"\"\n",
        "    temp = tweet.lower()\n",
        "    temp = re.sub('([A-Za-z]+)[\\'`]([A-Za-z]+)', r'\\1'r'\\2', temp)\n",
        "    temp = re.sub(\"@[A-Za-z0-9_]+\",\"\", temp)\n",
        "    temp = re.sub(\"#[A-Za-z0-9_]+\",\"\", temp)\n",
        "    temp = re.sub(\"\\[A-Za-z0-9_.]+\",\"\", temp)\n",
        "    temp = re.sub(r'http\\S+', '', temp)\n",
        "    temp = re.sub('[()!?&]', ' ', temp)\n",
        "    temp = re.sub('\\[.*?\\]',' ', temp)\n",
        "    temp = re.sub(\"[^a-z0-9]\",\" \", temp)\n",
        "    temp = temp.split()\n",
        "    temp = [w for w in temp if not w in stopwords]\n",
        "    temp = \" \".join(word for word in temp)\n",
        "    return temp"
      ],
      "metadata": {
        "id": "o1mKLWLErm7b"
      },
      "execution_count": 62,
      "outputs": []
    },
    {
      "cell_type": "markdown",
      "source": [
        "---\n",
        "## Part 6 (4 points)\n",
        "\n",
        "Set the random seed to 5.\n",
        "\n",
        "Create training and testing sets for each class.  From each set of tweets, randomly select 1000 entries (without replacement) as the test set.  As before, you can use `np.random.choice`.  Store them in variables called `test1` and `test2`.  Store the remaining tweets in variables called `train1` and `train2`.  "
      ],
      "metadata": {
        "id": "fCFRGZ1yS7Y2"
      }
    },
    {
      "cell_type": "code",
      "source": [
        "np.random.seed(5)\n",
        "test1 = set1tweets[np.random.choice(len(set1tweets), 1000, replace = False)]\n",
        "test2 = set2tweets[np.random.choice(len(set2tweets), 1000, replace = False)]\n",
        "train1 = np.delete(set1tweets, np.random.choice(len(set1tweets), 1000, replace = False))\n",
        "train2 = np.delete(set2tweets, np.random.choice(len(set2tweets), 1000, replace = False))"
      ],
      "metadata": {
        "id": "cC7ECSLVvE6Q"
      },
      "execution_count": 65,
      "outputs": []
    },
    {
      "cell_type": "markdown",
      "source": [
        "---\n",
        "## Part 7 (2 points)\n",
        "\n",
        "For each tweet in each training set, use your `clean_tweet` function to clean up the text and the `.split(' ')` method to split each tweet at whitespaces into its component words.  For each training set, create a list of lists of the words.  The variable should have the same number of elements as there are tweets in the training set, and each entry in the list should contain all of the words in the tweet in separate elements.\n",
        "\n",
        "This can be done efficiently with a list comprehension."
      ],
      "metadata": {
        "id": "Hw5uUirMTJqR"
      }
    },
    {
      "cell_type": "code",
      "source": [
        "clean_train1 = [clean_tweet(tweet).split() for tweet in train1]\n",
        "clean_train2 = [clean_tweet(tweet).split() for tweet in train2]"
      ],
      "metadata": {
        "id": "FRin4GtlvPOX"
      },
      "execution_count": 66,
      "outputs": []
    },
    {
      "cell_type": "markdown",
      "source": [
        "---\n",
        "## Part 8 (2 points)\n",
        "\n",
        "*   Use the function below to create a counter object for each set that contains the number of occurrences of each word in each dataset.  This object is a type of dictionary - a python data type that stores key:value pairs.  In this case, the keys are the words in the dataset and the values are the number of occurrences.\n",
        "\n",
        "*   Use the `most_common` method to display the 20 most common words in each dataset and the number of times they were found."
      ],
      "metadata": {
        "id": "zUFsG0y0TNSn"
      }
    },
    {
      "cell_type": "code",
      "source": [
        "from collections import Counter\n",
        "\n",
        "def count_words(word_array):\n",
        "\n",
        "    all_words = []\n",
        "\n",
        "    for tweet in word_array:\n",
        "        all_words += tweet\n",
        "    c = Counter(all_words)\n",
        "\n",
        "    return(c)\n"
      ],
      "metadata": {
        "id": "VQjKydHCrnAR"
      },
      "execution_count": 67,
      "outputs": []
    },
    {
      "cell_type": "code",
      "source": [
        "train1_count = count_words(clean_train1)\n",
        "train2_count = count_words(clean_train2)"
      ],
      "metadata": {
        "id": "m0q48UVr-8h1"
      },
      "execution_count": 71,
      "outputs": []
    },
    {
      "cell_type": "code",
      "source": [
        "print(train1_count.most_common(20))\n",
        "print(train2_count.most_common(20))"
      ],
      "metadata": {
        "colab": {
          "base_uri": "https://localhost:8080/"
        },
        "id": "k24_mnSwqTdG",
        "outputId": "340e9a56-2bd1-42e0-f276-1e4ce9675f00"
      },
      "execution_count": 72,
      "outputs": [
        {
          "output_type": "stream",
          "name": "stdout",
          "text": [
            "[('prices', 7654), ('store', 6716), ('food', 6709), ('supermarket', 6563), ('grocery', 5946), ('people', 5451), ('consumer', 4306), ('can', 4053), ('up', 3786), ('out', 3769), ('more', 3647), ('but', 3474), ('if', 3472), ('shopping', 3299), ('online', 3285), ('how', 3257), ('their', 3146), ('during', 3128), ('now', 3050), ('so', 3022)]\n",
            "[('great', 6593), ('he', 4038), ('twitter', 3621), ('thank', 2991), ('president', 2903), ('so', 2833), ('just', 2663), ('people', 2644), ('pic', 2561), ('very', 2471), ('no', 2324), ('do', 2317), ('thanks', 2289), ('but', 2229), ('who', 2154), ('me', 2076), ('what', 2049), ('his', 2047), ('now', 2042), ('would', 1948)]\n"
          ]
        }
      ]
    },
    {
      "cell_type": "markdown",
      "source": [
        "---\n",
        "## Part 9 (4 points)\n",
        "\n",
        "Write a function that computes $log(\\frac{P(Trump| x)}{P(Covid| x)})$ using a naive Bayes classifier.\n",
        "\n",
        "The main input to this function should be an array of words in a single tweet. You will also need to input both set counter objects, and anything you might need to calculate $P(Class)$.\n",
        "\n",
        "Recall that:\n",
        "\n",
        "$P(Class| x) \\propto P(Class)P(x_1|Class)P(x_2|Class)\\cdot\\cdot\\cdot P(x_n|Class)$\n",
        "\n",
        "\n",
        "To calculate each probability, you will need to compute:\n",
        "\n",
        "$P(Class)$: The number of tweets in the class divided by the total number of tweets in both classes (the prior probability).\n",
        "\n",
        "$P(X_i|Class)$: the probability of the $ith$ word in the tweet being randomly selected from all of the words observed in the Class.  \n",
        "\n",
        "To calculate the conditional probability, divide the number of occurrences of the word in the class (plus one to avoid multiplying-by-zeros) by the total number of words in the class (i.e. the sum of the counts for all words).  A counter object has a `.values` method that makes this easy to calculate."
      ],
      "metadata": {
        "id": "vsV_JOHWTQcZ"
      }
    },
    {
      "cell_type": "code",
      "source": [
        "class_= len(clean_train1)\n",
        "\n",
        "def naive(tweet,c,class_):\n",
        "    P_class = class_/(2 * class_) #P(Class)\n",
        "    log_probability = np.log(P_class)\n",
        "\n",
        "    for word in tweet:\n",
        "        word_count = c[word] if word in c else 0\n",
        "        P_X_Class = (word_count + 1)/(len(c)) #P(X|Class)\n",
        "        log_probability += np.log(P_X_Class)\n",
        "    return log_probability"
      ],
      "metadata": {
        "id": "E4YEphCwPKjC"
      },
      "execution_count": 73,
      "outputs": []
    },
    {
      "cell_type": "markdown",
      "source": [
        "---\n",
        "## Part 10 (2 points)\n",
        "\n",
        "Write a function that iterates over all of the tweets in a list of tweets and for each tweet calculates $log(\\frac{P(Trump| x)}{P(Covid| x)})$ (the \"log odds\") for each tweet using the function from **Part 9**.  This function should return an array the length of the list of tweets that contains all of the log odds values.\n",
        "\n",
        "Call this function with each test set to determine the log odds of the tweets in each set."
      ],
      "metadata": {
        "id": "r_yPskNH-FhS"
      }
    },
    {
      "cell_type": "code",
      "source": [
        "def logodds(test, train1_count, train2_count):\n",
        "    logodds = [] #initialize the list to store log odds\n",
        "    for tweet in test:\n",
        "        cleaned_tweet = clean_tweet(tweet)\n",
        "        log_probability_covid = naive(cleaned_tweet.split(), train1_count, class_)\n",
        "        log_probability_trump = naive(cleaned_tweet.split(), train2_count, class_)\n",
        "        logodds.append(log_probability_trump - log_probability_covid)\n",
        "    return logodds\n",
        "\n",
        "logcovid = logodds(test1, train1_count, train2_count)\n",
        "logtrump = logodds(test2, train1_count, train2_count)"
      ],
      "metadata": {
        "id": "eMdL_zpdQWGM"
      },
      "execution_count": 76,
      "outputs": []
    },
    {
      "cell_type": "markdown",
      "source": [
        "---\n",
        "## Part 10 (2 points)\n",
        "\n",
        "Plot a histogram of the log odds of tweets in the trump test set and the covid test set."
      ],
      "metadata": {
        "id": "fLJR-UmSTXpi"
      }
    },
    {
      "cell_type": "code",
      "source": [
        "plt.hist(logcovid, bins = 50, alpha = 0.2, label = 'Covid tweets')\n",
        "plt.hist(logtrump, bins = 50, alpha = 0.2, label = 'Trump tweets')\n",
        "plt.xlabel('Log odds')\n",
        "plt.ylabel('Density')\n",
        "plt.legend()\n",
        "plt.show()"
      ],
      "metadata": {
        "colab": {
          "base_uri": "https://localhost:8080/",
          "height": 461
        },
        "id": "qrsLgHjDwzC0",
        "outputId": "f92c47a5-b71b-408f-ee93-7d80b937df5e"
      },
      "execution_count": 79,
      "outputs": [
        {
          "output_type": "display_data",
          "data": {
            "text/plain": [
              "<Figure size 640x480 with 1 Axes>"
            ],
            "image/png": "[encoded data removed]"
          },
          "metadata": {}
        }
      ]
    },
    {
      "cell_type": "markdown",
      "source": [
        "---\n",
        "## Part 11 (2 points)\n",
        "\n",
        "Calculate the true positive rate, false positive rate, true negative rate, and false negative rate and display the values.  Note that if $P(A)<P(B)$, then $log(\\frac{P(B)}{P(A)})$ will be a positive number.\n",
        "\n",
        "Calculate the classification accuracy and display it."
      ],
      "metadata": {
        "id": "96N3zpWdTaaF"
      }
    },
    {
      "cell_type": "code",
      "source": [
        "#since positive odds are in the trump set\n",
        "t_p = np.sum(1 for l in logcovid if l < 0)\n",
        "f_p = np.sum(1 for l in logtrump if l < 0)\n",
        "t_n = np.sum(1 for l in logtrump if l >= 0)\n",
        "f_n = np.sum(1 for l in logcovid if l >= 0)\n",
        "\n",
        "tpr = t_p/(t_p + f_n)\n",
        "fpr = f_p/(f_p + t_n)\n",
        "tnr = t_n/(t_n + f_p)\n",
        "fnr = f_n/(f_n + t_p)\n",
        "a = (t_p + t_n)/(t_p + f_p+ t_n + f_n)\n",
        "\n",
        "print(f\"True positive rate:{tpr:.3f}\")\n",
        "print(f\"True negative rate:{tnr:.3f}\")\n",
        "print(f\"False positive rate:{fpr:.3f}\")\n",
        "print(f\"False negative rate:{fnr:.3f}\")\n",
        "print(f\"Accuracy:{a:.3f}\")"
      ],
      "metadata": {
        "id": "BMUSwsqMQW_K",
        "colab": {
          "base_uri": "https://localhost:8080/"
        },
        "outputId": "7b8316ea-8b02-46fc-c351-7a63abc306c7"
      },
      "execution_count": 88,
      "outputs": [
        {
          "output_type": "stream",
          "name": "stdout",
          "text": [
            "True positive rate:0.994\n",
            "True negative rate:0.916\n",
            "False positive rate:0.084\n",
            "False negative rate:0.006\n",
            "Accuracy:0.955\n"
          ]
        },
        {
          "output_type": "stream",
          "name": "stderr",
          "text": [
            "<ipython-input-88-82c733cbb588>:2: DeprecationWarning: Calling np.sum(generator) is deprecated, and in the future will give a different result. Use np.sum(np.fromiter(generator)) or the python sum builtin instead.\n",
            "  t_p = np.sum(1 for l in logcovid if l < 0)\n",
            "<ipython-input-88-82c733cbb588>:3: DeprecationWarning: Calling np.sum(generator) is deprecated, and in the future will give a different result. Use np.sum(np.fromiter(generator)) or the python sum builtin instead.\n",
            "  f_p = np.sum(1 for l in logtrump if l < 0)\n",
            "<ipython-input-88-82c733cbb588>:4: DeprecationWarning: Calling np.sum(generator) is deprecated, and in the future will give a different result. Use np.sum(np.fromiter(generator)) or the python sum builtin instead.\n",
            "  t_n = np.sum(1 for l in logtrump if l >= 0)\n",
            "<ipython-input-88-82c733cbb588>:5: DeprecationWarning: Calling np.sum(generator) is deprecated, and in the future will give a different result. Use np.sum(np.fromiter(generator)) or the python sum builtin instead.\n",
            "  f_n = np.sum(1 for l in logcovid if l >= 0)\n"
          ]
        }
      ]
    },
    {
      "cell_type": "markdown",
      "source": [
        "---\n",
        "## Part 12 (2 points)\n",
        "\n",
        "Display the following tweets from the Covid test set:\n",
        "*   The 2 most likely to be from the Covid set.\n",
        "*   The 2 least likely to be from the Covid set.\n",
        "\n",
        "Display the following tweets from the Trump test set:\n",
        "*   The 2 most likely to be from the Trump set.\n",
        "*   The 2 least likely to be from the Trump set.\n",
        "\n",
        "The numpy method `argsort` is useful for accomplishing this."
      ],
      "metadata": {
        "id": "Vji27-O_Fubi"
      }
    },
    {
      "cell_type": "code",
      "source": [
        "most_covid = np.argsort(logcovid)[-2:]\n",
        "least_covid = np.argsort(logcovid)[:2]\n",
        "\n",
        "print(\"most covid-like covid tweets\")\n",
        "for index in most_covid:\n",
        "  print(test1[index])\n",
        "\n",
        "print(\"most trump-like covid tweets\")\n",
        "for index in least_covid:\n",
        "    print(test1[index])\n",
        "\n",
        "most_trump = np.argsort(logtrump)[-2:]\n",
        "least_trump = np.argsort(logtrump)[:2]\n",
        "\n",
        "print(\"most covid-like trump tweets\")\n",
        "for index in least_trump:\n",
        "  print(test2[index])\n",
        "\n",
        "print(\"most trump-like trump tweets\")\n",
        "for index in most_trump:\n",
        "  print(test2[index])"
      ],
      "metadata": {
        "colab": {
          "base_uri": "https://localhost:8080/"
        },
        "id": "RetV7W94CIPC",
        "outputId": "d6fbeeea-191c-4e6f-ab93-c35b7e50c407"
      },
      "execution_count": 89,
      "outputs": [
        {
          "output_type": "stream",
          "name": "stdout",
          "text": [
            "most covid-like covid tweets\n",
            "I knew it was going to be bad...but not this bad https://t.co/IaACfFlNAx\n",
            "Happy first birthday Jack\n",
            "most trump-like covid tweets\n",
            "Record demand for online grocery shopping amid the COVID-19 pandemic has sent the apps for grocery pickup and delivery services up the charts. Walmart Grocery grabbed the No. 1 ranking position across all Shopping apps in the U.S, surpassing Amazon by 20%\r\r\n",
            "https://t.co/CFiMcaoAOe\n",
            "Govt of India issues Gazette of India order fixing retail prices of hand santizer and masks. Now 2ply mask at Rs 8, 3 ply surgical masks at Rs 10. Hand santizers at Rs 100 per bottle of 200 ml. Timely action by Govt. to prevent #Covid_19\r\r\n",
            "#CoronavirusPandemic #CoronaVirusUpdate https://t.co/kpLy2WHOuC\n",
            "most covid-like trump tweets\n",
            "It is a wonderful feeling to know that our States are loaded up with Ventilators, many brand new and high quality just off of our production lines, and that we are now in a position to help other countries that so desperately need them. Every person needing a Ventilator got one!\n",
            "\" @ SueGriffiths19 Been a bit quiet lately? Told my job is at risk NY - any tips to cheer me up?\" Be positive, do your best!\n",
            "most trump-like trump tweets\n",
            "...Crooked Hillary Clinton in 2016. They are called SUPPRESSION POLLS, and are put out to dampen enthusiasm. Despite 3 ½ years of phony Witch Hunts, we are winning, and will close it out on November 3rd!pic.twitter.com/4IhuLUZjsv\n",
            "....He loves our Military and supports our Vets! Democrat Jim Hood will never give us his vote, is anti-Trump and pro-Crooked Hillary. Get Out and Vote for Tate Reeves on November 5th. He has my Complete & Total Endorsement!\n"
          ]
        }
      ]
    },
    {
      "cell_type": "markdown",
      "source": [
        "\n",
        "<font color='red'>**SHORT ANSWER (4 points):** A Naive Bayes classifier assumes no covariance between features.  Would you expect features to covary in this dataset?  Why or why not?</font>  "
      ],
      "metadata": {
        "id": "n8hf2i089hUP"
      }
    },
    {
      "cell_type": "markdown",
      "source": [
        "Since the classifier in this scenario uses the odds of words in the class there are chances of the trum dataset having covid relevant words and maybe vice versa, establishing a degree of co-variance."
      ],
      "metadata": {
        "id": "fjIA0_uGN50Q"
      }
    }
  ]
}