{
  "cells": [
    {
      "cell_type": "markdown",
      "metadata": {
        "id": "view-in-github",
        "colab_type": "text"
      },
      "source": [
        "<a href=\"https://colab.research.google.com/github/Urvi-M/BE559/blob/main/Homework5_part1_V2.ipynb\" target=\"_parent\"><img src=\"https://colab.research.google.com/assets/colab-badge.svg\" alt=\"Open In Colab\"/></a>"
      ]
    },
    {
      "cell_type": "markdown",
      "metadata": {
        "id": "vh2ENMCBHlev"
      },
      "source": [
        "# Homework 5.1 (31 points)\n",
        "\n",
        "**Learning objectives:**\n",
        "\n",
        "In this assignment, we will become familiar with PyTorch, one of the most popular libraries for machine learning.  We will explore:\n",
        "\n",
        "*   PyTorch syntax and usage\n",
        "*   Solving the XOR problem with PyTorch"
      ]
    },
    {
      "cell_type": "markdown",
      "metadata": {
        "id": "Gu8GMkSHHley"
      },
      "source": [
        "---\n",
        "\n",
        "## Part 0\n",
        "\n",
        "This assignment will provide an introduction to PyTorch. PyTorch is an open source machine learning framework that allows you to write your own neural networks and optimize them efficiently. We choose to use PyTorch because it is well established, has a huge developer community (originally developed by Facebook), is very flexible and especially used in research.\n",
        "\n",
        "Meanwhile, TensorFlow (developed by Google) is usually known for being a production-grade deep learning library.\n",
        "\n",
        "---\n",
        "\n",
        "First, load the same libraries that we used in previous homeworks.\n",
        "\n",
        "*   `numpy` (as `np`)\n",
        "*   `matplotlib.pyplot` (as `plt`)\n",
        "\n",
        "Now, import **Pytorch**.  The package is called `torch`.\n",
        "\n",
        "*   `import torch`\n",
        "\n",
        "As always, now is also a good time to set the default font size to 16.\n",
        "\n",
        "Finally, let's set the random seed for `torch` so that our code's output is the same every time we run it.\n",
        "\n",
        "*   `torch.manual_seed(1)`"
      ]
    },
    {
      "cell_type": "code",
      "execution_count": 3,
      "metadata": {
        "id": "8548yZX4Hlez"
      },
      "outputs": [],
      "source": [
        "import numpy as np\n",
        "import matplotlib.pyplot as plt\n",
        "import pandas as pd\n",
        "import torch\n",
        "\n",
        "plt.rcParams.update({'font.size': 16})\n",
        "torch.manual_seed(1);"
      ]
    },
    {
      "cell_type": "markdown",
      "metadata": {
        "id": "RFWZv5dRHle4"
      },
      "source": [
        "---\n",
        "\n",
        "### Part 1  (1 point)\n",
        "\n",
        "**Tensors** are the PyTorch equivalent of Numpy arrays, but also have support for GPU acceleration (more on that later). The name \"tensor\" really just refers to higher-dimensional matrices (3-D, 4-D, etc.).\n",
        "\n",
        "Most common functions you know from numpy can be used on tensors as well. Since numpy arrays are so similar to tensors, we can convert most tensors to numpy arrays (and back).\n",
        "\n",
        "Let's first start by looking at different ways of creating a tensor. There are **many** possible options.\n",
        "\n",
        "*   Create a 3-D tensor called `xtensor` of dimensions 2x3x4 using `torch.Tensor`.  This allocates memory for the desired tensor, but reuses any values that might already be in memory.  Print `xtensor`.\n",
        "*   Create a tensor that is the same size but contains zeros using `torch.zeros`.  Call it `xzeros` and print it.\n",
        "*   Create and print similar tensors using `torch.ones` (called `xones`), `torch.rand` (called `xrand`), and `torch.randn` (called `xrandn`).\n",
        "*   Create and print a 1-D tensor using `torch.arange` (called `xarange`) containing the integers 1 through 10.  \n"
      ]
    },
    {
      "cell_type": "code",
      "execution_count": 4,
      "metadata": {
        "id": "kQ4tinZYHle5",
        "outputId": "189688eb-0f1a-440a-f539-84d509f85889",
        "colab": {
          "base_uri": "https://localhost:8080/"
        }
      },
      "outputs": [
        {
          "output_type": "stream",
          "name": "stdout",
          "text": [
            "tensor([[[2.8026e-45, 0.0000e+00, 1.6126e+38, 3.3188e-41],\n",
            "         [1.6125e+38, 3.3188e-41, 1.6125e+38, 3.3188e-41],\n",
            "         [4.2039e-45, 0.0000e+00, 1.6126e+38, 3.3188e-41]],\n",
            "\n",
            "        [[1.6124e+38, 3.3188e-41, 1.6125e+38, 3.3188e-41],\n",
            "         [1.6125e+38, 3.3188e-41, 2.3822e-44, 3.3188e-41],\n",
            "         [4.1472e+34, 3.3188e-41, 1.6126e+38, 3.3188e-41]]])\n",
            "tensor([[[0., 0., 0., 0.],\n",
            "         [0., 0., 0., 0.],\n",
            "         [0., 0., 0., 0.]],\n",
            "\n",
            "        [[0., 0., 0., 0.],\n",
            "         [0., 0., 0., 0.],\n",
            "         [0., 0., 0., 0.]]])\n",
            "tensor([[[1., 1., 1., 1.],\n",
            "         [1., 1., 1., 1.],\n",
            "         [1., 1., 1., 1.]],\n",
            "\n",
            "        [[1., 1., 1., 1.],\n",
            "         [1., 1., 1., 1.],\n",
            "         [1., 1., 1., 1.]]])\n",
            "tensor([[[0.7576, 0.2793, 0.4031, 0.7347],\n",
            "         [0.0293, 0.7999, 0.3971, 0.7544],\n",
            "         [0.5695, 0.4388, 0.6387, 0.5247]],\n",
            "\n",
            "        [[0.6826, 0.3051, 0.4635, 0.4550],\n",
            "         [0.5725, 0.4980, 0.9371, 0.6556],\n",
            "         [0.3138, 0.1980, 0.4162, 0.2843]]])\n",
            "tensor([[[ 0.4391,  1.1712,  1.7674, -0.0954],\n",
            "         [ 0.1394, -1.5785, -0.3206, -0.2993],\n",
            "         [-0.9274,  0.5451,  0.0663, -0.4370]],\n",
            "\n",
            "        [[ 0.7626,  0.4415,  1.1651,  2.0154],\n",
            "         [ 0.1374,  0.9386, -0.1860, -0.6446],\n",
            "         [ 1.5392, -0.8696, -3.3312, -0.7479]]])\n",
            "tensor([ 1,  2,  3,  4,  5,  6,  7,  8,  9, 10])\n"
          ]
        }
      ],
      "source": [
        "xtensor = torch.Tensor(2, 3, 4)\n",
        "print(xtensor)\n",
        "xzeros= torch.zeros(2,3,4)\n",
        "print(xzeros)\n",
        "xones= torch.ones(2,3,4)\n",
        "print(xones)\n",
        "xrand = torch.rand(2,3,4)\n",
        "print(xrand)\n",
        "xrandn=torch.randn(2,3,4)\n",
        "print(xrandn)\n",
        "xarange = torch.arange(1,11,1)\n",
        "print(xarange)"
      ]
    },
    {
      "cell_type": "markdown",
      "metadata": {
        "id": "4-al5ZdKHle-"
      },
      "source": [
        "---\n",
        "## Part 2 (1 point)\n",
        "\n",
        "Tensors can be converted to numpy arrays, and numpy arrays back to tensors. To transform a numpy array into a tensor, we can use the function `torch.from_numpy`.\n",
        "*   Create a 2x2 numpy array called `np_arr` with the values 1,2 in the first row and 3,4 in the second row.\n",
        "*   Convert `np_arr` to a PyTorch tensor called `pt_tensor`.  \n",
        "*   Print both `np_arr` and `pt_tensor`."
      ]
    },
    {
      "cell_type": "code",
      "execution_count": 5,
      "metadata": {
        "id": "Q0M4L-VOHle-",
        "outputId": "a55a8d44-5c12-411e-bb6a-3cdb8c63cdbd",
        "colab": {
          "base_uri": "https://localhost:8080/"
        }
      },
      "outputs": [
        {
          "output_type": "stream",
          "name": "stdout",
          "text": [
            "Numpy array = [[1 2]\n",
            " [3 4]]\n",
            "tensor([[1, 2],\n",
            "        [3, 4]])\n"
          ]
        }
      ],
      "source": [
        "np_arr =np.array([[1,2],\n",
        "          [3,4]])\n",
        "pt_tensor= torch.from_numpy(np_arr)\n",
        "print('Numpy array =', np_arr)\n",
        "print(pt_tensor)"
      ]
    },
    {
      "cell_type": "markdown",
      "metadata": {
        "id": "oZExk9WVHle_"
      },
      "source": [
        "To transform a PyTorch tensor back to a numpy array, we can use the function `.numpy()` on tensors:\n",
        "\n",
        "*   Create a 1-D tensor called `pt_tensor` containing the integers 0 through 3 and convert it to a numpy array called `np_arr`.\n",
        "*   Print them both."
      ]
    },
    {
      "cell_type": "code",
      "execution_count": 6,
      "metadata": {
        "id": "3ZaBzgO0Hle_",
        "outputId": "35fba28f-e7f1-43c4-fd2e-bb8072c4098b",
        "colab": {
          "base_uri": "https://localhost:8080/"
        }
      },
      "outputs": [
        {
          "output_type": "stream",
          "name": "stdout",
          "text": [
            "PyTorch tensor: tensor([0, 1, 2, 3])\n",
            "Numpy tensor: [0 1 2 3]\n"
          ]
        }
      ],
      "source": [
        "pt_tensor= torch.arange(0,4)\n",
        "print('PyTorch tensor:',pt_tensor)\n",
        "pt_tensor= torch.arange(0,4).numpy()\n",
        "print('Numpy tensor:',pt_tensor)"
      ]
    },
    {
      "cell_type": "markdown",
      "metadata": {
        "id": "oOBmNvhoHle_"
      },
      "source": [
        "The conversion of tensors to numpy require the tensor to be on the CPU, and not the GPU (more on GPU support in a later section). In case you have a tensor on GPU, you need to call `.cpu()` on the tensor beforehand. Hence, you get a line like `np_arr = tensor.cpu().numpy()`."
      ]
    },
    {
      "cell_type": "markdown",
      "metadata": {
        "id": "I8Z3IAHPHle_"
      },
      "source": [
        "---\n",
        "## Part 3 (1 point)\n",
        "\n",
        "Most operations that exist in numpy, also exist in PyTorch. A full list of operations can be found in the [PyTorch documentation](https://pytorch.org/docs/stable/tensors.html#), but we will review the most important ones here.\n",
        "\n",
        "The simplest operation is to add two tensors:\n",
        "*   Create two 2x3 tensors of random numbers, `x1` and `x2`\n",
        "*   Create a new variable, `y`, equal to `x1+x2`\n",
        "*   Print `x1`, `x2`, and `y`"
      ]
    },
    {
      "cell_type": "code",
      "execution_count": 7,
      "metadata": {
        "id": "2oHbuhUbHle_",
        "outputId": "11199b07-78bb-4a01-d86c-95f66e270537",
        "colab": {
          "base_uri": "https://localhost:8080/"
        }
      },
      "outputs": [
        {
          "output_type": "stream",
          "name": "stdout",
          "text": [
            "X1 tensor([[0.2197, 0.4177, 0.4903],\n",
            "        [0.5730, 0.1205, 0.1452]])\n",
            "X2 tensor([[0.7720, 0.3828, 0.7442],\n",
            "        [0.5285, 0.6642, 0.6099]])\n",
            "Y tensor([[0.9917, 0.8005, 1.2346],\n",
            "        [1.1015, 0.7847, 0.7551]])\n"
          ]
        }
      ],
      "source": [
        "x1 = torch.rand(2, 3)\n",
        "x2 = torch.rand(2, 3)\n",
        "y = x1 + x2\n",
        "\n",
        "print(\"X1\", x1)\n",
        "print(\"X2\", x2)\n",
        "print(\"Y\", y)"
      ]
    },
    {
      "cell_type": "markdown",
      "metadata": {
        "id": "L3mCgOfRHlfA"
      },
      "source": [
        "Calling `x1 + x2` creates a new tensor containing the sum of the two inputs. However, we can also use in-place operations that are applied directly on the memory of a tensor.\n",
        "*   Use the `.add_` method to modify the value of `x2` so that it is now equal to `x1+x2`.\n",
        "*   Print the new `x2`."
      ]
    },
    {
      "cell_type": "code",
      "execution_count": 8,
      "metadata": {
        "id": "iJ4AMsLXHlfA",
        "outputId": "e9ecc8e5-9171-4b90-c74e-ae5af70e04e2",
        "colab": {
          "base_uri": "https://localhost:8080/"
        }
      },
      "outputs": [
        {
          "output_type": "stream",
          "name": "stdout",
          "text": [
            "X1 (before) tensor([[0.2197, 0.4177, 0.4903],\n",
            "        [0.5730, 0.1205, 0.1452]])\n",
            "X2 (before) tensor([[0.7720, 0.3828, 0.7442],\n",
            "        [0.5285, 0.6642, 0.6099]])\n",
            "X1 (after) tensor([[0.2197, 0.4177, 0.4903],\n",
            "        [0.5730, 0.1205, 0.1452]])\n",
            "X2 (after) tensor([[0.9917, 0.8005, 1.2346],\n",
            "        [1.1015, 0.7847, 0.7551]])\n"
          ]
        }
      ],
      "source": [
        "print('X1 (before)',x1)\n",
        "print('X2 (before)',x2)\n",
        "print('X1 (after)',x1)\n",
        "x2.add_(x1)\n",
        "print('X2 (after)',x2)"
      ]
    },
    {
      "cell_type": "markdown",
      "metadata": {
        "id": "AJNBKjkVHlfB"
      },
      "source": [
        "In-place operations are usually marked with a underscore postfix (e.g. \"add_\" instead of \"add\").\n",
        "\n"
      ]
    },
    {
      "cell_type": "markdown",
      "source": [
        "---\n",
        "## Part 4 (1 point)\n",
        "\n",
        "Another common operation is to change the shape of a tensor. A tensor of size (2,3) can be re-organized to any other shape with the same number of elements . In PyTorch, this operation is called `view`.  \n",
        "\n",
        "*  Use `view` to transform the elements of `x1` to a new tensor of size 6 called `x3`.\n",
        "*  Use `view` to transform the elements of `x1` to a new tensor of size 3x2 called `x4`.\n",
        "*   Print `x3` and `x4`."
      ],
      "metadata": {
        "id": "ACWGzd0pwm4f"
      }
    },
    {
      "cell_type": "code",
      "execution_count": 9,
      "metadata": {
        "id": "I1B73jRtHlfB",
        "outputId": "8daf5f12-2feb-44a3-e065-4d11afb52ee2",
        "colab": {
          "base_uri": "https://localhost:8080/"
        }
      },
      "outputs": [
        {
          "output_type": "stream",
          "name": "stdout",
          "text": [
            "tensor([[0.2197, 0.4177, 0.4903, 0.5730, 0.1205, 0.1452]])\n"
          ]
        }
      ],
      "source": [
        "x3 = x1.view(1,6)\n",
        "print(x3)\n"
      ]
    },
    {
      "cell_type": "code",
      "execution_count": 10,
      "metadata": {
        "id": "9BISJ0W4HlfB",
        "outputId": "1af215e6-8f1c-4b64-80c4-f6eaf7a1ddcb",
        "colab": {
          "base_uri": "https://localhost:8080/"
        }
      },
      "outputs": [
        {
          "output_type": "stream",
          "name": "stdout",
          "text": [
            "tensor([[0.2197, 0.4177],\n",
            "        [0.4903, 0.5730],\n",
            "        [0.1205, 0.1452]])\n"
          ]
        }
      ],
      "source": [
        "x4 = x1.view(3,2)\n",
        "print(x4)"
      ]
    },
    {
      "cell_type": "markdown",
      "metadata": {
        "id": "E5Izma2CHlfD"
      },
      "source": [
        "---\n",
        "## Part 5 (1 point)\n",
        "\n",
        "Other commonly used operations include matrix multiplications, which are essential for neural networks. Quite often, we have an input vector $\\mathbf{x}$, which is transformed using a learned weight matrix $\\mathbf{W}$. There are multiple ways and functions to perform matrix multiplication, some of which we list below:\n",
        "\n",
        "* `torch.matmul`: Performs the matrix product over two tensors. If both inputs are matrices (2-dimensional tensors), it performs the standard matrix product. For higher dimensional inputs, the function supports broadcasting (for details see the [documentation](https://pytorch.org/docs/stable/generated/torch.matmul.html?highlight=matmul#torch.matmul)). Can also be written as `a @ b`, similar to numpy.\n",
        "\n",
        "* `torch.bmm`: Performs the matrix product and supports a batch dimension (effectively the number of training examples in the array). If the first tensor $T$ is of shape ($b\\times n\\times m$), and the second tensor $R$ ($b\\times m\\times p$), the output $O$ is of shape ($b\\times n\\times p$), and has been calculated by performing $b$ matrix multiplications of the $n\\times m$ and $m\\times p$ submatrices of $T$ and $R$.\n",
        "\n",
        "*   Create a 2x3 tensor called **`x`** of the digits 0 through 5 using the `arange` and `view` methods.\n",
        "*   Create a 3x3 tensor called **`W`** containing the digits 0 through 8 in the same way.\n",
        "*   Use the `.matmul` method to multiply **`x`** and **`W`**.\n",
        "*   Print the output of this operation.\n"
      ]
    },
    {
      "cell_type": "code",
      "execution_count": 11,
      "metadata": {
        "id": "sGp1HeZEHlfD",
        "outputId": "4eeccff8-c085-48c2-ba7c-d5d28cbd0305",
        "colab": {
          "base_uri": "https://localhost:8080/"
        }
      },
      "outputs": [
        {
          "output_type": "stream",
          "name": "stdout",
          "text": [
            "X = tensor([[0, 1, 2],\n",
            "        [3, 4, 5]])\n"
          ]
        }
      ],
      "source": [
        "x= torch.arange(0,6).view(2,3)\n",
        "print('X =',x)"
      ]
    },
    {
      "cell_type": "code",
      "execution_count": 12,
      "metadata": {
        "id": "uYLDrV7aHlfD",
        "outputId": "bb94f3d0-e075-4232-802e-780fe1aeec79",
        "colab": {
          "base_uri": "https://localhost:8080/"
        }
      },
      "outputs": [
        {
          "output_type": "stream",
          "name": "stdout",
          "text": [
            "W tensor([[0, 1, 2],\n",
            "        [3, 4, 5],\n",
            "        [6, 7, 8]])\n"
          ]
        }
      ],
      "source": [
        "W= torch.arange(0,9).view(3,3)\n",
        "print('W',W)"
      ]
    },
    {
      "cell_type": "code",
      "execution_count": 13,
      "metadata": {
        "id": "3BsFwIK1HlfD",
        "outputId": "085c6f19-823c-45b3-80d9-a4c02f61a61f",
        "colab": {
          "base_uri": "https://localhost:8080/"
        }
      },
      "outputs": [
        {
          "output_type": "stream",
          "name": "stdout",
          "text": [
            "h tensor([[15, 18, 21],\n",
            "        [42, 54, 66]])\n"
          ]
        }
      ],
      "source": [
        "h=torch.matmul(x,W)\n",
        "print('h',h)"
      ]
    },
    {
      "cell_type": "markdown",
      "metadata": {
        "id": "aLV_p3noHlfG"
      },
      "source": [
        "---\n",
        "\n",
        "### Gradients\n",
        "\n",
        "One of the main reasons for using PyTorch in Deep Learning projects is that we can automatically get **gradients** of functions that we define. We will mainly use PyTorch for implementing neural networks, and they are just fancy functions. If we use weight matrices in our function that we want to learn, then those are called the **parameters** or simply the **weights**.\n",
        "\n",
        "If our neural network had a single scalar input, we would talk about taking the derivative, but you will see that quite often we will have multiple input variables; in that case we talk about **gradients**. It's a more general term.\n",
        "\n",
        "Given an input $\\mathbf{x}$, we define our function by manipulating that input, usually by matrix-multiplications with weight matrices and additions with so-called bias vectors. As we manipulate our input, we are automatically creating a **computational graph**. This graph shows how to arrive at our output from our input.\n",
        "PyTorch is a **define-by-run** framework; this means that we can just do our manipulations, and PyTorch will keep track of that graph for us. Thus, we create a dynamic computation graph along the way.\n",
        "\n",
        "So, to recap: the only thing we have to do is to compute the **output**, and then we can ask PyTorch to automatically get the **gradients**."
      ]
    },
    {
      "cell_type": "markdown",
      "source": [
        "---\n",
        "## Part 6 (1 point)\n",
        "\n",
        "\n",
        "The first thing we have to do is to specify which tensors require gradients. By default, when we create a tensor, it does not require gradients.\n",
        "\n",
        "*  Create a 3-element tensor called `x` in which all elements are equal to 1.\n",
        "*  Print the output of calling `x.requires_grad`."
      ],
      "metadata": {
        "id": "n-OAMXsg2yUe"
      }
    },
    {
      "cell_type": "code",
      "execution_count": 14,
      "metadata": {
        "id": "imuTPHv0HlfG",
        "outputId": "c2391099-6244-4d30-9536-fa70e26e02df",
        "colab": {
          "base_uri": "https://localhost:8080/"
        }
      },
      "outputs": [
        {
          "output_type": "stream",
          "name": "stdout",
          "text": [
            "False\n"
          ]
        }
      ],
      "source": [
        "x= torch.ones(3)\n",
        "print(x.requires_grad)"
      ]
    },
    {
      "cell_type": "markdown",
      "metadata": {
        "id": "tQ3u19jXHlfH"
      },
      "source": [
        "We can change this for an existing tensor using the method `requires_grad_(True)` (underscore indicating that this is a in-place operation). Alternatively, when creating a tensor, you can pass the argument `requires_grad=True` to most initializers we have seen above.\n",
        "\n",
        "*  Specify that `x` requires gradients and print the output of `x.requires_grad` again."
      ]
    },
    {
      "cell_type": "code",
      "execution_count": 15,
      "metadata": {
        "id": "66bGDQxWHlfI",
        "outputId": "0f9fd8da-ba06-4b31-b0f2-a1669d3aab4f",
        "colab": {
          "base_uri": "https://localhost:8080/"
        }
      },
      "outputs": [
        {
          "output_type": "stream",
          "name": "stdout",
          "text": [
            "True\n"
          ]
        }
      ],
      "source": [
        "x.requires_grad=True\n",
        "print(x.requires_grad)"
      ]
    },
    {
      "cell_type": "markdown",
      "metadata": {
        "id": "J7qnoH40HlfI"
      },
      "source": [
        "---\n",
        "## Part 7 (1 point)\n",
        "\n",
        "In order to get familiar with the concept of a computation graph, we will create one for the following function:\n",
        "\n",
        "$$y = \\frac{1}{|x|}\\sum_i \\left[(x_i + 2)^2 + 3\\right]$$\n",
        "\n",
        "You could imagine that $x$ are our parameters, and we want to optimize (either maximize or minimize) the output $y$. For this, we want to obtain the gradients $\\partial y / \\partial \\mathbf{x}$. For our example, we'll use $\\mathbf{x}=[0,1,2]$ as our input.\n",
        "\n",
        "*  Create $\\mathbf{x}$ as above using `arange`.  Be sure to use the option `requires_grad=True`.  Also set `dtype=torch.float32`.  Only float tensors can have gradients.\n",
        "*   Print $\\mathbf{x}$."
      ]
    },
    {
      "cell_type": "code",
      "execution_count": 16,
      "metadata": {
        "id": "VtOfD0lfHlfI",
        "outputId": "8f43d619-97bb-4335-b26f-1b9917ad1869",
        "colab": {
          "base_uri": "https://localhost:8080/"
        }
      },
      "outputs": [
        {
          "output_type": "stream",
          "name": "stdout",
          "text": [
            "X tensor([0., 1., 2.], requires_grad=True)\n"
          ]
        }
      ],
      "source": [
        "X = torch.arange(3,requires_grad=True, dtype=torch.float32)\n",
        "print('X',X)"
      ]
    },
    {
      "cell_type": "markdown",
      "metadata": {
        "id": "tQdx9HEKHlfJ"
      },
      "source": [
        "---\n",
        "## Part 8 (1 point)\n",
        "\n",
        "Now let's build the **computation graph** step by step. You can combine multiple operations in a single line, but we will separate them here to get a better understanding of how each operation is added to the computation graph."
      ]
    },
    {
      "cell_type": "code",
      "execution_count": 17,
      "metadata": {
        "id": "-4-DYbNyHlfJ",
        "outputId": "976b81a6-fb1d-4443-e857-74cfe89169a3",
        "colab": {
          "base_uri": "https://localhost:8080/"
        }
      },
      "outputs": [
        {
          "output_type": "stream",
          "name": "stdout",
          "text": [
            "Y tensor(12., grad_fn=<MeanBackward0>)\n"
          ]
        }
      ],
      "source": [
        "a = x + 2\n",
        "b = a ** 2\n",
        "c = b + 3\n",
        "y = c.mean()\n",
        "print(\"Y\", y)"
      ]
    },
    {
      "cell_type": "markdown",
      "metadata": {
        "id": "BxewrjPFHlfJ"
      },
      "source": [
        "Using the statements above, we have created a computation graph that looks similar to the figure below:\n",
        "\n",
        "<center style=\"width: 100%\"><img src=\"https://github.com/phlippe/uvadlc_notebooks/blob/master/docs/tutorial_notebooks/tutorial2/pytorch_computation_graph.svg?raw=1\" width=\"200px\"></center>\n",
        "\n",
        "The visualization is an abstraction of the dependencies between inputs and outputs of the operations we have applied.\n",
        "\n",
        "Each node of the computation graph has automatically defined a function for calculating the gradients with respect to its inputs, `grad_fn`.\n",
        "\n",
        "You can see this when we printed the output tensor $y$. This is why the computation graph is usually visualized in the reverse direction (arrows point from the result to the inputs). We can perform backpropagation on the computation graph by calling the function `backward()` on the last output, which effectively calculates the gradients for each tensor that has the property `requires_grad=True`.\n",
        "\n",
        "*  Apply the `.backward()` method to `y`."
      ]
    },
    {
      "cell_type": "code",
      "execution_count": 18,
      "metadata": {
        "id": "wUCL3dd9HlfJ"
      },
      "outputs": [],
      "source": [
        "y.backward()"
      ]
    },
    {
      "cell_type": "markdown",
      "metadata": {
        "id": "WaYH9Mh2HlfK"
      },
      "source": [
        "`x.grad` will now contain the gradient $\\partial y/ \\partial \\mathcal{x}$, and this gradient indicates how a change in $\\mathbf{x}$ will affect output $y$ given the current input $\\mathbf{x}=[0,1,2]$.\n",
        "*   Print `x.grad`."
      ]
    },
    {
      "cell_type": "code",
      "execution_count": 19,
      "metadata": {
        "id": "hm9PYwK3HlfK",
        "outputId": "9acc0d30-f9ba-4766-9573-0e8c3ad63362",
        "colab": {
          "base_uri": "https://localhost:8080/"
        }
      },
      "outputs": [
        {
          "output_type": "stream",
          "name": "stdout",
          "text": [
            "tensor([2., 2., 2.])\n"
          ]
        }
      ],
      "source": [
        "print(x.grad)"
      ]
    },
    {
      "cell_type": "markdown",
      "metadata": {
        "id": "nPZftKamHlfK"
      },
      "source": [
        "---\n",
        "\n",
        "We can also verify these gradients by hand. We will calculate the gradients using the chain rule, in the same way as PyTorch did it:\n",
        "\n",
        "$$\\frac{\\partial y}{\\partial x_i} = \\frac{\\partial y}{\\partial c_i}\\frac{\\partial c_i}{\\partial b_i}\\frac{\\partial b_i}{\\partial a_i}\\frac{\\partial a_i}{\\partial x_i}$$\n",
        "\n",
        "The partial derivatives are:\n",
        "\n",
        "$$\n",
        "\\frac{\\partial a_i}{\\partial x_i} = 1,\\hspace{1cm}\n",
        "\\frac{\\partial b_i}{\\partial a_i} = 2\\cdot a_i\\hspace{1cm}\n",
        "\\frac{\\partial c_i}{\\partial b_i} = 1\\hspace{1cm}\n",
        "\\frac{\\partial y}{\\partial c_i} = \\frac{1}{3}\n",
        "$$\n",
        "\n",
        "Hence, with the input being $\\mathbf{x}=[0,1,2]$, our gradients are $\\partial y/\\partial \\mathbf{x}=[4/3,2,8/3]$. The previous code cell should have printed the same result."
      ]
    },
    {
      "cell_type": "markdown",
      "metadata": {
        "id": "E9q0UpMBHlfL"
      },
      "source": [
        "---\n",
        "## Part 9 (1 point)\n",
        "\n",
        "A crucial feature of PyTorch is **support of GPUs**. A GPU can perform many thousands of small operations in parallel, making it very well suited for performing large matrix operations in neural networks.\n",
        "\n",
        "CPUs and GPUs have both different advantages and disadvantages, which is why many computers contain both components and use them for different tasks.\n",
        "\n",
        "GPUs can accelerate the training of your network up to a factor of $100$, which is essential for large neural networks. First, let's check whether you have a GPU available.\n",
        "\n",
        "*   Use `torch.cuda.is_available()` to determine if you have a GPU available.  Print the output.\n",
        "\n"
      ]
    },
    {
      "cell_type": "code",
      "execution_count": 20,
      "metadata": {
        "id": "xScxUf6KHlfL",
        "outputId": "8ab2eb65-cd2b-4d5f-f40d-ffb073394c17",
        "colab": {
          "base_uri": "https://localhost:8080/"
        }
      },
      "outputs": [
        {
          "output_type": "execute_result",
          "data": {
            "text/plain": [
              "True"
            ]
          },
          "metadata": {},
          "execution_count": 20
        }
      ],
      "source": [
        "torch.cuda.is_available()"
      ]
    },
    {
      "cell_type": "markdown",
      "metadata": {
        "id": "Yb0OCU5gHlfL"
      },
      "source": [
        "On Google Colab, by default you only have access to a CPU, and so initially, the output of this cell should be `False`.\n",
        "\n",
        "Set up this session so that it has access to a GPU.  Go to `Runtime-> Change runtime type` and make sure `Hardware accelerator` is set to `GPU` and `GPU class` is set to `Standard`.  Press `Save`.  This will restart your runtime so you will have to re-run your code.  Now, the output of the above cell should be `True`.\n"
      ]
    },
    {
      "cell_type": "markdown",
      "source": [
        "---\n",
        "##Part 10 (1 point)\n",
        "\n",
        "By default, all tensors you create are stored on the CPU. We can push a tensor to the GPU by using the function `.to(...)`, or `.cuda()`. However, it is often a good practice to define a `device` object in your code which points to the GPU if you have one, and otherwise to the CPU. Then, you can write your code with respect to this device object, and it allows you to run the same code on both a CPU-only system, and one with a GPU. Let's try it below. We can specify the device as follows.\n"
      ],
      "metadata": {
        "id": "fhcOIXVxBXtF"
      }
    },
    {
      "cell_type": "code",
      "execution_count": 21,
      "metadata": {
        "id": "ipKtfcZbHlfM",
        "outputId": "a5e8ab0f-9027-4604-867a-1bfc193dc75b",
        "colab": {
          "base_uri": "https://localhost:8080/"
        }
      },
      "outputs": [
        {
          "output_type": "stream",
          "name": "stdout",
          "text": [
            "Device cuda\n"
          ]
        }
      ],
      "source": [
        "device = torch.device(\"cuda\") if torch.cuda.is_available() else torch.device(\"cpu\")\n",
        "print(\"Device\", device)"
      ]
    },
    {
      "cell_type": "markdown",
      "metadata": {
        "id": "BKPWC3wvHlfM"
      },
      "source": [
        "Now let's create a tensor and push it to the device.\n",
        "*   Create a 2x3 tensor called `x` containing zeros.\n",
        "*   Use the `.to(...)` method to push `x` to your GPU.\n",
        "*   Print `x` to verify that it is on your GPU."
      ]
    },
    {
      "cell_type": "code",
      "execution_count": 65,
      "metadata": {
        "id": "VHs0E3ukHlfM",
        "outputId": "abc96dac-fafd-421d-b6ec-df8659a9892f",
        "colab": {
          "base_uri": "https://localhost:8080/"
        }
      },
      "outputs": [
        {
          "output_type": "stream",
          "name": "stdout",
          "text": [
            "x tensor([[0., 0., 0.],\n",
            "        [0., 0., 0.]], device='cuda:0')\n"
          ]
        }
      ],
      "source": [
        "x=torch.zeros(2,3).to(device)\n",
        "print('x',x)"
      ]
    },
    {
      "cell_type": "markdown",
      "metadata": {
        "id": "EtJorOxDHlfN"
      },
      "source": [
        "In case you have a GPU, you should now see the attribute `device='cuda:0'` being printed next to your tensor. The zero next to cuda indicates that this is the zero-th GPU device on your computer. PyTorch also supports multi-GPU systems, but you will only need this if you have very big networks to train."
      ]
    },
    {
      "cell_type": "markdown",
      "source": [
        "---\n",
        "##Part 11 (1 point)\n",
        "\n",
        "We can compare the runtime of a large matrix multiplication on the CPU with an operation on the GPU.  \n",
        "\n",
        "*   Perform a matrix multiplication of the matrix `x` with itself on the CPU, and again on the GPU.  \n",
        "*   Time both operations and print the CPU and GPU computation times for this operation.  \n",
        "\n",
        "NOTE: The first time you run on the GPU, it may not run very fast, so run this part of your code more than once.\n",
        "\n",
        "You can use the following code skeleton for this.  All you need to fill in here is the code you want to time.\n",
        "\n",
        "\n",
        "\n"
      ],
      "metadata": {
        "id": "HrWmetxGCXo4"
      }
    },
    {
      "cell_type": "code",
      "execution_count": 23,
      "metadata": {
        "id": "QeQIPiAIHlfN",
        "outputId": "1f114dab-30cb-4d6e-bced-9542805dd8e6",
        "colab": {
          "base_uri": "https://localhost:8080/"
        }
      },
      "outputs": [
        {
          "output_type": "stream",
          "name": "stdout",
          "text": [
            "CPU time: 0.00003s\n",
            "GPU time: 0.00005s\n"
          ]
        }
      ],
      "source": [
        "import time\n",
        "\n",
        "x = torch.randn(5000, 5000)\n",
        "\n",
        "## CPU version\n",
        "start_time = time.time()\n",
        "## FILL IN CODE HERE\n",
        "end_time = time.time()\n",
        "print(f\"CPU time: {(end_time - start_time):6.5f}s\")\n",
        "\n",
        "## GPU version\n",
        "x = x.to(device)\n",
        "# CUDA is asynchronous, so we need to use different timing functions\n",
        "start = torch.cuda.Event(enable_timing=True)\n",
        "end = torch.cuda.Event(enable_timing=True)\n",
        "start.record()\n",
        "## FILL IN CODE HERE\n",
        "end.record()\n",
        "torch.cuda.synchronize()  # Waits for everything to finish running on the GPU\n",
        "print(f\"GPU time: {0.001 * start.elapsed_time(end):6.5f}s\")  # Milliseconds to seconds"
      ]
    },
    {
      "cell_type": "markdown",
      "metadata": {
        "id": "HaoeYylWHlfN"
      },
      "source": [
        "Depending on the size of the operation and the CPU/GPU in your system, the speedup of this operation can be >50x. As `matmul` operations are very common in neural networks, we can already see the great benefit of training a NN on a GPU.\n",
        "\n",
        "When generating random numbers, the seed between CPU and GPU is not synchronized. Hence, we need to set the seed on the GPU separately to ensure reproducible code. Note that due to different GPU architectures, running the same code on different GPUs does not guarantee the same random numbers."
      ]
    },
    {
      "cell_type": "code",
      "execution_count": 24,
      "metadata": {
        "id": "BznDnG8hHlfO"
      },
      "outputs": [],
      "source": [
        "# GPU operations have a separate seed we also want to set\n",
        "if torch.cuda.is_available():\n",
        "    torch.cuda.manual_seed(1)\n",
        "\n",
        "# Additionally, some operations on a GPU are implemented stochastic for efficiency\n",
        "# We want to ensure that all operations are deterministic on GPU (if used) for reproducibility\n",
        "torch.backends.cudnn.deterministic = True\n",
        "torch.backends.cudnn.benchmark = False"
      ]
    },
    {
      "cell_type": "markdown",
      "metadata": {
        "id": "U58JqZ-YHlfO"
      },
      "source": [
        "---\n",
        "---\n",
        "\n",
        "Now we will construct and train a NN to solve the **Continuous XOR problem**.\n",
        "\n",
        "If we want to build a neural network in PyTorch, we could specify all our parameters (weight matrices, bias vectors) using `Tensors` (with `requires_grad=True`), ask PyTorch to calculate the gradients and then adjust the parameters. But things can quickly get cumbersome if we have a lot of parameters. In PyTorch, there is a package called `torch.nn` that makes building neural networks more convenient.\n",
        "\n",
        "We will introduce the libraries and all additional parts you might need to train a neural network in PyTorch, using an example classifier on a simple yet well known example: XOR. Given two binary inputs $x_1$ and $x_2$, the label to predict is $1$ if either $x_1$ or $x_2$ is $1$ while the other is $0$, or the label is $0$ in all other cases.\n",
        "\n",
        "We will learn how to build a small neural network that can learn this function.\n",
        "To make it a little bit more interesting, we move the XOR into continuous space and introduce some gaussian noise on the binary inputs. Our desired separation of an XOR dataset could look as follows:\n",
        "\n",
        "<center style=\"width: 100%\"><img src=\"https://github.com/phlippe/uvadlc_notebooks/blob/master/docs/tutorial_notebooks/tutorial2/continuous_xor.svg?raw=1\" width=\"350px\"></center>"
      ]
    },
    {
      "cell_type": "markdown",
      "metadata": {
        "id": "2MuuSnjUHlfO"
      },
      "source": [
        "##Part 12 (1 point)\n",
        "The package `torch.nn` defines a series of useful classes like linear networks layers, activation functions, loss functions etc.  \n",
        "\n",
        "\n",
        "*   Import `torch.nn` as `nn`.\n",
        "\n",
        "*   Also import `torch.nn.functional`. It contains functions that are used in network layers. Call it `F`."
      ]
    },
    {
      "cell_type": "code",
      "execution_count": 25,
      "metadata": {
        "id": "eZFYCsvcHlfO"
      },
      "outputs": [],
      "source": [
        "import torch.nn as nn\n",
        "import torch.nn.functional as F"
      ]
    },
    {
      "cell_type": "markdown",
      "metadata": {
        "id": "xV6GtPUrHlfP"
      },
      "source": [
        "---\n",
        "\n",
        "In PyTorch, a neural network is built up out of modules. Modules can contain other modules, and a neural network is considered to be a module itself as well. The basic template of a module is as follows:"
      ]
    },
    {
      "cell_type": "code",
      "execution_count": 26,
      "metadata": {
        "id": "x1hjkxGRHlfP"
      },
      "outputs": [],
      "source": [
        "class MyModule(nn.Module):\n",
        "\n",
        "    def __init__(self):\n",
        "        super().__init__()\n",
        "        # Some init for my module\n",
        "\n",
        "    def forward(self, x):\n",
        "        # Function for performing the calculation of the module.\n",
        "        pass"
      ]
    },
    {
      "cell_type": "markdown",
      "metadata": {
        "id": "k0HsLPZWHlfQ"
      },
      "source": [
        "The forward function is where the computation of the module is taken place, and is executed when you call the module (`nn = MyModule(); nn(x)`). In the init function, we usually create the parameters of the module, using `nn.Parameter`, or defining other modules that are used in the forward function. The backward calculation is done automatically, but could be overwritten as well if wanted.\n",
        "\n",
        "This code defines a **class**.  For those of you who have not encountered classes, they are objects that can include multiple functions and variables.  We have not (and will not) go too far into class construction, but you have been using them all semester - they are 'under the hood' of the libraries we import.\n",
        "\n"
      ]
    },
    {
      "cell_type": "markdown",
      "source": [
        "---\n",
        "\n",
        "We can now make use of the pre-defined modules in the `torch.nn` package, and define our **own small neural network**. We will use a minimal network with an input layer, one hidden layer using the `tanh` activation function, and an output layer. In other words, our networks should look something like this:\n",
        "\n",
        "<center width=\"100%\"><img src=\"https://github.com/phlippe/uvadlc_notebooks/blob/master/docs/tutorial_notebooks/tutorial2/small_neural_network.svg?raw=1\" width=\"300px\"></center>\n",
        "\n",
        "The input neurons are shown in blue, which represent the coordinates $x_1$ and $x_2$ of a data point. The hidden neurons including a tanh activation are shown in white, and the output neuron is in red.\n",
        "In PyTorch, we can define this as follows. Familiarize yourself with this code."
      ],
      "metadata": {
        "id": "ajoXdTfrkmpJ"
      }
    },
    {
      "cell_type": "code",
      "execution_count": 27,
      "metadata": {
        "id": "Yd27KzKnHlfQ"
      },
      "outputs": [],
      "source": [
        "class SimpleClassifier(nn.Module):\n",
        "\n",
        "    def __init__(self, num_inputs, num_hidden, num_outputs):\n",
        "        super().__init__()\n",
        "        # Initialize the modules we need to build the network\n",
        "        self.linear1 = nn.Linear(num_inputs, num_hidden)\n",
        "        self.act_fn = nn.Tanh()\n",
        "        self.linear2 = nn.Linear(num_hidden, num_outputs)\n",
        "\n",
        "    def forward(self, x):\n",
        "        # Perform the calculation of the model to determine the prediction\n",
        "        x = self.linear1(x)\n",
        "        x = self.act_fn(x)\n",
        "        x = self.linear2(x)\n",
        "        return x"
      ]
    },
    {
      "cell_type": "markdown",
      "metadata": {
        "id": "Kf7kZo3uHlfQ"
      },
      "source": [
        "---\n",
        "## Part 13 (1 point)\n",
        "\n",
        "For the examples in this notebook, we will use a tiny neural network with two input neurons and four hidden neurons. As we perform binary classification, we will use a single output neuron. Note that we do not apply a sigmoid on the output yet. This is because other functions, especially the loss, are more efficient and precise to calculate on the original outputs instead of the sigmoid output.\n",
        "\n",
        "*   Use the `SimpleClassifier` class to build a NN called `model` with the appropriate number of inputs neurons, hidden neurons, and output neurons.\n",
        "*  Print your NN.\n",
        "\n"
      ]
    },
    {
      "cell_type": "code",
      "execution_count": 28,
      "metadata": {
        "id": "ICBUvMlaHlfR",
        "outputId": "088c9c33-60f8-4d3e-e9e6-326081c6830e",
        "colab": {
          "base_uri": "https://localhost:8080/"
        }
      },
      "outputs": [
        {
          "output_type": "stream",
          "name": "stdout",
          "text": [
            "SimpleClassifier(\n",
            "  (linear1): Linear(in_features=2, out_features=4, bias=True)\n",
            "  (act_fn): Tanh()\n",
            "  (linear2): Linear(in_features=4, out_features=1, bias=True)\n",
            ")\n"
          ]
        }
      ],
      "source": [
        "model = SimpleClassifier(2,4,1)\n",
        "print(model)"
      ]
    },
    {
      "cell_type": "markdown",
      "metadata": {
        "id": "2_FQPjMEHlfR"
      },
      "source": [
        "---\n",
        "## Part 14 (1 points)\n",
        "\n",
        "The parameters of a module can be obtained by using its `parameters()` function, or `named_parameters()` to get a name to each parameter object. Loop over all of the parameters and display them with their names.  You can loop over the named_parameters using a strategy such as:\n",
        "\n",
        "`for name, param in model.named_parameters():\n",
        "`"
      ]
    },
    {
      "cell_type": "code",
      "execution_count": 30,
      "metadata": {
        "id": "OPoR-od0HlfR",
        "outputId": "8e361093-a37c-4c43-f147-3dc99611f07b",
        "colab": {
          "base_uri": "https://localhost:8080/"
        }
      },
      "outputs": [
        {
          "output_type": "stream",
          "name": "stdout",
          "text": [
            "linear1.weight Parameter containing:\n",
            "tensor([[-0.2814, -0.2915],\n",
            "        [ 0.6635,  0.2470],\n",
            "        [-0.5497, -0.0414],\n",
            "        [ 0.0526, -0.2535]], requires_grad=True)\n",
            "linear1.bias Parameter containing:\n",
            "tensor([ 0.0633,  0.3981, -0.0699, -0.6448], requires_grad=True)\n",
            "linear2.weight Parameter containing:\n",
            "tensor([[-0.1592,  0.4119,  0.4616,  0.0670]], requires_grad=True)\n",
            "linear2.bias Parameter containing:\n",
            "tensor([-0.4427], requires_grad=True)\n"
          ]
        }
      ],
      "source": [
        "for name, param in model.named_parameters():\n",
        "  print(name,param)"
      ]
    },
    {
      "cell_type": "markdown",
      "metadata": {
        "id": "pR2voX7-HlfS"
      },
      "source": [
        "Each linear layer has a weight matrix of the shape `[output, input]`, and a bias of the shape `[output]`. The tanh activation function does not have any parameters."
      ]
    },
    {
      "cell_type": "markdown",
      "metadata": {
        "id": "FFU2p3eYHlfS"
      },
      "source": [
        "---\n",
        "## Part 15 (1 point)\n",
        "\n",
        "\n",
        "PyTorch also provides functionality for loading training and test data efficiently, summarized in the package `torch.utils.data`.  \n",
        "*   Import this package and call it `data`."
      ]
    },
    {
      "cell_type": "code",
      "execution_count": 31,
      "metadata": {
        "id": "Snbde6XcHlfS"
      },
      "outputs": [],
      "source": [
        "import torch.utils.data as data"
      ]
    },
    {
      "cell_type": "markdown",
      "metadata": {
        "id": "mWrTIePHHlfS"
      },
      "source": [
        "The data package defines two classes which are the standard interface for handling data in PyTorch: `data.Dataset`, and `data.DataLoader`. The Dataset class provides a uniform interface to access training/test data, while the DataLoader allows us to efficiently load and stack data points from a dataset into batches during training."
      ]
    },
    {
      "cell_type": "markdown",
      "metadata": {
        "id": "Z10F_zLaHlfS"
      },
      "source": [
        "---\n",
        "## Part 16 (1 point)\n",
        "\n",
        "To define a dataset in PyTorch, we simply specify two functions: `__getitem__`, and `__len__`. The get-item function has to return the $i$-th data point in the dataset, while the len function returns the size of the dataset. For the XOR dataset, we can define the dataset class as follows. Familiarize yourself with this code."
      ]
    },
    {
      "cell_type": "code",
      "execution_count": 32,
      "metadata": {
        "id": "TKrkQICRHlfT"
      },
      "outputs": [],
      "source": [
        "class XORDataset(data.Dataset):\n",
        "\n",
        "    def __init__(self, size, std=0.1):\n",
        "        \"\"\"\n",
        "        Inputs:\n",
        "            size - Number of data points we want to generate\n",
        "            std - Standard deviation of the noise (see generate_continuous_xor function)\n",
        "        \"\"\"\n",
        "        super().__init__()\n",
        "        self.size = size\n",
        "        self.std = std\n",
        "        self.generate_continuous_xor()\n",
        "\n",
        "    def generate_continuous_xor(self):\n",
        "        # Each data point in the XOR dataset has two variables, x and y, that can be either 0 or 1\n",
        "        # The label is their XOR combination, i.e. 1 if only x or only y is 1 while the other is 0.\n",
        "        # If x=y, the label is 0.\n",
        "        data = torch.randint(low=0, high=2, size=(self.size, 2), dtype=torch.float32)\n",
        "        label = (data.sum(dim=1) == 1).to(torch.long)\n",
        "        # To make it slightly more challenging, we add a bit of gaussian noise to the data points.\n",
        "        data += self.std * torch.randn(data.shape)\n",
        "\n",
        "        self.data = data\n",
        "        self.label = label\n",
        "\n",
        "    def __len__(self):\n",
        "        # Number of data point we have. Alternatively self.data.shape[0], or self.label.shape[0]\n",
        "        return self.size\n",
        "\n",
        "    def __getitem__(self, idx):\n",
        "        # Return the idx-th data point of the dataset\n",
        "        # If we have multiple things to return (data point and label), we can return them as tuple\n",
        "        data_point = self.data[idx]\n",
        "        data_label = self.label[idx]\n",
        "        return data_point, data_label"
      ]
    },
    {
      "cell_type": "markdown",
      "metadata": {
        "id": "XLJN5KnYHlfT"
      },
      "source": [
        "You should see from the above code that each data point contains two values and has an associated label.\n",
        "\n",
        "*   Use this class to create a dataset, called `dataset`, containing 200 data points.\n",
        "*   Use the `len` method to print the size of the dataset.\n",
        "*   Index into the dataset to print the first data point.\n",
        "\n"
      ]
    },
    {
      "cell_type": "code",
      "execution_count": 54,
      "metadata": {
        "id": "7tV9fzFKHlfT",
        "outputId": "f4733af7-d83c-41a1-d5f5-38cee75152fd",
        "colab": {
          "base_uri": "https://localhost:8080/"
        }
      },
      "outputs": [
        {
          "output_type": "stream",
          "name": "stdout",
          "text": [
            "<__main__.XORDataset object at 0x7b218c9ef970>\n",
            "Size of dataset: <bound method XORDataset.__len__ of <__main__.XORDataset object at 0x7b218c9ef970>>\n",
            "Dataset index 0: tensor([-0.0079,  0.0367])\n",
            "Dataset index 0: tensor(0)\n"
          ]
        }
      ],
      "source": [
        "dataset = XORDataset(200)\n",
        "print(dataset)\n",
        "print('Size of dataset:',dataset.__len__)\n",
        "first_data_point, first_label = dataset[0]\n",
        "print(\"Dataset index 0:\", first_data_point)\n",
        "print(\"Dataset index 0:\", first_label)"
      ]
    },
    {
      "cell_type": "markdown",
      "metadata": {
        "id": "wI22o14bHlfU"
      },
      "source": [
        "---\n",
        "## Part 17 (1 point)\n",
        "\n",
        "We can create a function that allows us to visualize the samples. Familiarize yourself with this code."
      ]
    },
    {
      "cell_type": "code",
      "execution_count": 66,
      "metadata": {
        "id": "3qvz0VwvHlfU"
      },
      "outputs": [],
      "source": [
        "def visualize_samples(data, label):\n",
        "    if isinstance(data, torch.Tensor):\n",
        "        data = data.cpu().numpy()\n",
        "    if isinstance(label, torch.Tensor):\n",
        "        label = label.cpu().numpy()\n",
        "    data_0 = data[label == 0]\n",
        "    data_1 = data[label == 1]\n",
        "    print(data_0)\n",
        "    plt.figure(figsize=(4,4))\n",
        "    plt.scatter(data_0[:,0], data_0[:,1], edgecolor=\"#333\", label=\"Class 0\")\n",
        "    plt.scatter(data_1[:,0], data_1[:,1], edgecolor=\"#333\", label=\"Class 1\")\n",
        "    plt.title(\"Dataset samples\")\n",
        "    plt.ylabel(r\"$x_2$\")\n",
        "    plt.xlabel(r\"$x_1$\")\n",
        "    plt.legend()\n",
        "    plt.show()"
      ]
    },
    {
      "cell_type": "markdown",
      "source": [
        "*   Use this function to plot all of the data points in your dataset."
      ],
      "metadata": {
        "id": "c2AtHwG5sLHs"
      }
    },
    {
      "cell_type": "code",
      "execution_count": 67,
      "metadata": {
        "id": "DkEfwrNOHlfV",
        "outputId": "00a00697-47eb-4c16-c5a0-a880166b8490",
        "colab": {
          "base_uri": "https://localhost:8080/",
          "height": 1000
        }
      },
      "outputs": [
        {
          "output_type": "stream",
          "name": "stdout",
          "text": [
            "[[-0.00790864  0.03672393]\n",
            " [ 0.15867238 -0.16888371]\n",
            " [ 0.9014305   1.1688589 ]\n",
            " [ 0.9255429   1.0314624 ]\n",
            " [ 0.90233904  0.8461624 ]\n",
            " [ 0.89932483  0.95699024]\n",
            " [-0.16995127 -0.1340973 ]\n",
            " [ 0.87614655  1.0156904 ]\n",
            " [-0.11330109  0.0552841 ]\n",
            " [-0.271976    0.03465978]\n",
            " [ 0.9277177   1.3281115 ]\n",
            " [ 1.0622722   1.1171083 ]\n",
            " [ 0.9357689   1.1845083 ]\n",
            " [ 0.09864224 -0.08283184]\n",
            " [-0.03331514  0.27942035]\n",
            " [ 0.00387349  0.01772683]\n",
            " [ 0.86416507  0.9173156 ]\n",
            " [ 0.11522241  0.04205059]\n",
            " [ 0.081328    0.25145754]\n",
            " [ 0.9351893   0.8547668 ]\n",
            " [ 0.8894828   1.1363314 ]\n",
            " [-0.09774822  0.09712586]\n",
            " [ 0.02872596  0.05767228]\n",
            " [ 0.03203928  0.0485316 ]\n",
            " [ 1.0350114   0.83760524]\n",
            " [-0.07296353 -0.14636567]\n",
            " [ 1.0554795   1.0718794 ]\n",
            " [ 0.01925906 -0.12142184]\n",
            " [ 1.0099274   0.95968056]\n",
            " [ 0.09854729 -0.02305603]\n",
            " [ 1.1688875   0.89081174]\n",
            " [ 0.9597949   1.0675629 ]\n",
            " [ 1.0070711   0.9808565 ]\n",
            " [ 1.0405018   1.0233283 ]\n",
            " [-0.01253127  0.00786458]\n",
            " [ 0.07451425 -0.03045543]\n",
            " [ 0.1139965  -0.06831191]\n",
            " [ 0.26000163 -0.13013947]\n",
            " [ 0.9488296   1.0068411 ]\n",
            " [ 0.85403436  1.051917  ]\n",
            " [ 1.1717899   1.1704946 ]\n",
            " [ 1.0862126   0.9387947 ]\n",
            " [ 1.0288444   0.7976391 ]\n",
            " [ 1.0741285   1.0198624 ]\n",
            " [-0.19769178 -0.15393685]\n",
            " [ 1.0909338   1.1307253 ]\n",
            " [ 1.0200466   0.995299  ]\n",
            " [ 0.02813293  0.03077971]\n",
            " [ 0.9504054   0.91259474]\n",
            " [-0.07114679  0.15556453]\n",
            " [ 0.9098331   0.87613076]\n",
            " [ 1.0335025   0.9240874 ]\n",
            " [ 0.08723696  0.13810156]\n",
            " [ 0.03335496 -0.1517724 ]\n",
            " [ 0.12887684 -0.05532214]\n",
            " [ 0.06634218  0.03319255]\n",
            " [ 1.0831379   0.751753  ]\n",
            " [ 1.0722237   1.0739952 ]\n",
            " [ 0.9335246   0.7636519 ]\n",
            " [ 0.9229366   1.1435723 ]\n",
            " [ 1.1289676   0.9230733 ]\n",
            " [ 0.03062886 -0.12751682]\n",
            " [ 0.99359286  0.89734936]\n",
            " [ 0.9451326   1.0840851 ]\n",
            " [ 0.03359079 -0.14999886]\n",
            " [-0.16901702  0.08713354]\n",
            " [ 0.87114185  0.8432766 ]\n",
            " [-0.15894133  0.03365808]\n",
            " [ 0.99449563  0.83091843]\n",
            " [ 0.08821152 -0.05519639]\n",
            " [ 1.1611217   1.1466289 ]\n",
            " [ 0.87147206  1.0831826 ]\n",
            " [ 1.037734    0.93434864]\n",
            " [ 0.90977305  0.9525921 ]\n",
            " [-0.10212046  0.04392223]\n",
            " [ 0.07087078 -0.12392408]\n",
            " [-0.07996766 -0.0672484 ]\n",
            " [ 0.9133034   1.1891751 ]\n",
            " [ 0.2684104   0.03088476]\n",
            " [ 0.05114711 -0.04645264]\n",
            " [ 1.0761479   1.0023535 ]\n",
            " [-0.01398556 -0.08880832]\n",
            " [ 0.14812371 -0.05618681]\n",
            " [ 0.9560966   1.0712231 ]\n",
            " [ 0.07276168 -0.04611401]\n",
            " [-0.00232931  0.08815277]\n",
            " [-0.08618563  0.02038357]\n",
            " [ 0.06850179  0.16363196]\n",
            " [-0.10960227  0.07516185]\n",
            " [ 1.0540795   0.9268023 ]\n",
            " [ 0.14142928 -0.05933981]\n",
            " [-0.03840422 -0.00544569]\n",
            " [ 0.06441515  0.08559685]\n",
            " [ 0.9609113   0.8260189 ]\n",
            " [ 0.1188316  -0.0567055 ]\n",
            " [ 0.01955709  0.11916504]\n",
            " [ 1.1696572   0.97112876]\n",
            " [-0.07873517 -0.00574679]\n",
            " [ 0.865622    1.1225301 ]]\n"
          ]
        },
        {
          "output_type": "display_data",
          "data": {
            "text/plain": [
              "<Figure size 400x400 with 1 Axes>"
            ],
            "image/png": "[encoded data removed]"
          },
          "metadata": {}
        }
      ],
      "source": [
        "visualize_samples(dataset.data, dataset.label)\n"
      ]
    },
    {
      "cell_type": "markdown",
      "metadata": {
        "id": "7W9Vs_73HlfV"
      },
      "source": [
        "---\n",
        "## Part 18 (1 point)\n",
        "\n",
        "The class `torch.utils.data.DataLoader` represents a Python iterable over a dataset with support for automatic batching, multi-process data loading and many more features. The dataloader communicates with the dataset using the function `__getitem__`, and stacks its outputs as tensors over the first dimension to form a batch.\n",
        "In contrast to the dataset class, we usually don't have to define our own dataloader class, but can just create an object of it with the dataset as input.\n",
        "\n",
        "*   Create a dataloader object called `data_loader` using the options `batch_size=8` and `shuffle=True`."
      ]
    },
    {
      "cell_type": "code",
      "execution_count": 68,
      "metadata": {
        "id": "fyPlTJ35HlfV"
      },
      "outputs": [],
      "source": [
        "data_loader = data.DataLoader(dataset,batch_size=8,shuffle=True)"
      ]
    },
    {
      "cell_type": "markdown",
      "source": [
        "---\n",
        "## Part 19 (1 point)\n",
        "\n",
        "*   Get one batch of data from your dataset with your dataloader.  \n",
        "\n",
        "You can do this with `next(iter(data_loader))`.  This will return two outputs: a set of data and their associated labels (the variables specified in the `__getitem__` function in your dataset class).  Call these variables `data_inputs` and `data_labels`.\n",
        "*   Print `data_inputs` and `data_labels`."
      ],
      "metadata": {
        "id": "SjxkRWlkytwU"
      }
    },
    {
      "cell_type": "code",
      "execution_count": 69,
      "metadata": {
        "id": "eT2UAfZCHlfV",
        "outputId": "992f3b48-5846-49c4-a15f-24e75ff589b2",
        "colab": {
          "base_uri": "https://localhost:8080/"
        }
      },
      "outputs": [
        {
          "output_type": "stream",
          "name": "stdout",
          "text": [
            "Data inputs tensor([[ 1.1204, -0.1310],\n",
            "        [ 0.9133,  1.1892],\n",
            "        [ 0.1481, -0.0562],\n",
            "        [ 1.0623,  1.1171],\n",
            "        [ 0.8715,  1.0832],\n",
            "        [-0.1096,  0.0752],\n",
            "        [-0.1382,  1.0407],\n",
            "        [ 0.9129, -0.1063]])\n",
            "Data labels tensor([1, 0, 0, 0, 0, 0, 1, 1])\n"
          ]
        }
      ],
      "source": [
        "data_inputs, data_labels = next(iter(data_loader))\n",
        "print('Data inputs',data_inputs)\n",
        "print('Data labels',data_labels)"
      ]
    },
    {
      "cell_type": "markdown",
      "metadata": {
        "id": "wvo7pCLsHlfW"
      },
      "source": [
        "---\n",
        "\n",
        "After defining the model and the dataset, it is time to prepare the optimization of the model. During training, we will perform the following steps:\n",
        "\n",
        "1. Get a batch of data from the dataloader\n",
        "2. Obtain the predictions from the model for the batch\n",
        "3. Calculate the loss based on the difference between predictions and true labels\n",
        "4. Backpropagation: calculate the gradients for every parameter with respect to the loss\n",
        "5. Update the parameters of the model in the direction of the gradients\n",
        "\n",
        "We have seen how we can do step 1, 2 and 4 in PyTorch. Now, we will look at step 3 and 5."
      ]
    },
    {
      "cell_type": "markdown",
      "metadata": {
        "id": "i0rXTJKEHlfW"
      },
      "source": [
        "---\n",
        "## Part 20 (1 point)\n",
        "\n",
        "Next, we need to define a loss function for our classification problem.  Luckily, PyTorch can help us with this too! PyTorch provides a list of predefined loss functions which we can use (see [here](https://pytorch.org/docs/stable/nn.html#loss-functions) for a full list). Here, we'll use the module `nn.BCEWithLogitsLoss`.  The loss function applies a sigmoid to the output and calculates Binary Cross Entropy (BCE) loss, which is defined as follows:\n",
        "\n",
        "$$\\mathcal{L}_{BCE} = -\\sum_i \\left[ y_i \\log x_i + (1 - y_i) \\log (1 - x_i) \\right]$$\n",
        "\n",
        "where $y$ are our labels, and $x$ our predictions, both in the range of $[0,1]$.  In brief, this loss function calculates the similarity between the actual and predicted probabilities of points belonging to each class.\n",
        "*   Create a `BCEWithLogitsLoss` loss function and call it `loss_module`.\n",
        "\n"
      ]
    },
    {
      "cell_type": "code",
      "execution_count": 70,
      "metadata": {
        "id": "alpMvHvOHlfW"
      },
      "outputs": [],
      "source": [
        "loss_module= nn.BCEWithLogitsLoss()"
      ]
    },
    {
      "cell_type": "markdown",
      "metadata": {
        "id": "QBeKiWcMHlfX"
      },
      "source": [
        "---\n",
        "## Part 21 (1 point)\n",
        "\n",
        "For updating parameters, we can use the PyTorch package `torch.optim`, which has most popular optimizers implemented. We will use one of the most common: `torch.optim.SGD`. **Stochastic Gradient Descent** updates parameters by multiplying the gradients with a small constant, called learning rate, and subtracting those from the parameters (hence minimizing the loss). Therefore, we slowly move towards the direction of minimizing the loss. A good default value of the learning rate for a small network such as ours is 0.1.\n",
        "*   Create an optimizer object for SGD with a learning rate of 0.1.  Call this object `optimizer`.  Inputs to the optimizer are the parameters of the model (`model.parameters()`) and any optional settings.\n",
        "\n",
        "\n"
      ]
    },
    {
      "cell_type": "code",
      "execution_count": 71,
      "metadata": {
        "id": "YsD7CZykHlfX"
      },
      "outputs": [],
      "source": [
        "optimizer = torch.optim.SGD(model.parameters(),lr=0.1)"
      ]
    },
    {
      "cell_type": "markdown",
      "metadata": {
        "id": "SWcXaZcjHlfX"
      },
      "source": [
        "The optimizer provides two useful functions: `optimizer.step()` and `optimizer.zero_grad()`.\n",
        "\n",
        "The `.step()` function updates the parameters based on the gradients as explained above.\n",
        "\n",
        "The function `optimizer.zero_grad()` sets the gradients of all parameters to zero.\n",
        "\n",
        "While this function seems less relevant at first, it is a crucial pre-step before performing backpropagation. If we call the `backward` function on the loss while the parameter gradients are non-zero from the previous batch, the new gradients would actually be added to the previous ones instead of overwriting them. This is done because a parameter might occur multiple times in a computation graph, and we need to sum the gradients in this case instead of replacing them. Hence, remember to call `optimizer.zero_grad()` before calculating the gradients of a batch."
      ]
    },
    {
      "cell_type": "markdown",
      "metadata": {
        "id": "pCX6YZ1sHlfX"
      },
      "source": [
        "---\n",
        "## Part 22 (1 point)\n",
        "Finally, we are ready to train our model. As a first step, create a larger dataset (2500 data points) and specify a dataloader with a larger batch size (128). Call the dataset `train_dataset` and the dataloader `train_data_loader`."
      ]
    },
    {
      "cell_type": "code",
      "execution_count": 72,
      "metadata": {
        "id": "_pFc1myEHlfY"
      },
      "outputs": [],
      "source": [
        "train_dataset = XORDataset(2500)\n",
        "train_data_loader = data.DataLoader(train_dataset,batch_size=128,shuffle=True)"
      ]
    },
    {
      "cell_type": "markdown",
      "metadata": {
        "id": "lLQfl-f2HlfY"
      },
      "source": [
        "---\n",
        "## Part 23 (1 point)\n",
        "\n",
        "Now, we can write a small training function. Remember our five steps: load a batch, obtain the predictions, calculate the loss, backpropagate, and update. Additionally, we have to push all data and model parameters to the device of our choice (GPU if available). For the tiny neural network we have, communicating the data to the GPU actually takes much more time than we could save from running the operation on GPU. For large networks, the communication time is significantly smaller than the actual runtime making a GPU crucial in these cases. Still, to practice, we will push the data to GPU here.\n",
        "*   Push your network (`model`) to your GPU"
      ]
    },
    {
      "cell_type": "code",
      "execution_count": 73,
      "metadata": {
        "id": "yOSf3kwVHlfY",
        "outputId": "b468d332-c0aa-4784-a001-f4341e20f698",
        "colab": {
          "base_uri": "https://localhost:8080/"
        }
      },
      "outputs": [
        {
          "output_type": "execute_result",
          "data": {
            "text/plain": [
              "SimpleClassifier(\n",
              "  (linear1): Linear(in_features=2, out_features=4, bias=True)\n",
              "  (act_fn): Tanh()\n",
              "  (linear2): Linear(in_features=4, out_features=1, bias=True)\n",
              ")"
            ]
          },
          "metadata": {},
          "execution_count": 73
        }
      ],
      "source": [
        "# Push model to device. Has to be only done once\n",
        "model.to(device)"
      ]
    },
    {
      "cell_type": "markdown",
      "metadata": {
        "id": "uZxb2UF_HlfY"
      },
      "source": [
        "---\n",
        "## Part 24 (5 points)\n",
        "\n",
        "Write a function, `train_model`, to train your model.  This function should be structured as follows:\n",
        "\n",
        "Inputs: Your model, your optimizer, the dataloader, the loss module, and the number of training epochs, which you can set to a default of 100 (i.e. `..., num_epochs=100):`.\n",
        "\n",
        "Steps:\n",
        "\n",
        "1) Set your model to training mode. This is done by calling `model.train()`. There exist certain modules that need to perform a different forward step during training than during testing (e.g. BatchNorm and Dropout), and we can switch between them using `model.train()` and `model.eval()`.\n",
        "\n",
        "2) Write two nested `for` loops to iterate over the number of training epochs and the contents of the data_loader.  The syntax for the latter will be similar to what you wrote in **Part 19** but should use a `for` loop to iterate over all the training data rather than `next(iter(...))`, which grabs one set of data.  Inside the loops, do the following:\n",
        "\n",
        "3) Move `data_inputs` and `data_labels` to your device.\n",
        "\n",
        "4) Run the model on the input data.  Save the output as a variable, `preds`.  Remove singleton dimensions (dimensions of size 1), using a command such as `preds = preds.squeeze(dim=1)`.\n",
        "\n",
        "5) Use your loss module to calculate the loss according to `preds` and `data_labels`.  You might have to convert the latter to floats using `.float()` for use in your loss module.  Call the loss `loss`.\n",
        "\n",
        "6) Zero the gradient of your optimizer.\n",
        "\n",
        "7) Perform backpropogation on `loss` using `.backward()`.\n",
        "\n",
        "8) Update your parameters using the `.step()` method of your optimizer.\n",
        "\n",
        "*  Finally call `train_model` with the appropriate inputs.\n"
      ]
    },
    {
      "cell_type": "code",
      "execution_count": 74,
      "metadata": {
        "id": "P8Xlq0l3HlfZ"
      },
      "outputs": [],
      "source": [
        "def train_model(model, optimizer, data_loader, loss_module, num_epochs=100):\n",
        "    device = next(model.parameters()).device\n",
        "    model.train()\n",
        "    for epoch in range(num_epochs):\n",
        "        for data_inputs, data_labels in data_loader:\n",
        "            data_inputs = data_inputs.to(device)\n",
        "            data_labels = data_labels.to(device)\n",
        "            preds = model(data_inputs)\n",
        "            preds = preds.squeeze(dim=1)\n",
        "            loss = loss_module(preds.float(), data_labels.float())\n",
        "            optimizer.zero_grad()\n",
        "            loss.backward()\n",
        "            optimizer.step()"
      ]
    },
    {
      "cell_type": "code",
      "execution_count": 76,
      "metadata": {
        "id": "KgXrcxo9Hlfa"
      },
      "outputs": [],
      "source": [
        "train_model(model, optimizer, data_loader, loss_module)"
      ]
    },
    {
      "cell_type": "markdown",
      "metadata": {
        "id": "l6fHcarfHlfb"
      },
      "source": [
        "---\n",
        "After finish training a model, we can extract the so-called `state_dict` from the model which contains all learnable parameters. For our simple model, the state dict contains the following entries:"
      ]
    },
    {
      "cell_type": "code",
      "execution_count": 77,
      "metadata": {
        "id": "I5MDx9oZHlfb",
        "outputId": "2ebb27ec-7a6f-4aa9-eade-439b9ed57004",
        "colab": {
          "base_uri": "https://localhost:8080/"
        }
      },
      "outputs": [
        {
          "output_type": "stream",
          "name": "stdout",
          "text": [
            "OrderedDict([('linear1.weight', tensor([[-1.1127, -1.0795],\n",
            "        [ 3.1382,  2.9255],\n",
            "        [-3.0345,  1.9031],\n",
            "        [ 1.9859, -3.0648]], device='cuda:0')), ('linear1.bias', tensor([ 1.6530, -1.0694, -0.6468, -0.7310], device='cuda:0')), ('linear2.weight', tensor([[2.2562, 4.3559, 3.9413, 3.9762]], device='cuda:0')), ('linear2.bias', tensor([-0.0727], device='cuda:0'))])\n"
          ]
        }
      ],
      "source": [
        "state_dict = model.state_dict()\n",
        "print(state_dict)"
      ]
    },
    {
      "cell_type": "markdown",
      "metadata": {
        "id": "G89WqiXuHlfd"
      },
      "source": [
        "---\n",
        "## Part 26 (1 point)\n",
        "\n",
        "\n",
        "Once we have trained a model, it is time to evaluate it on a held-out test set. As our dataset consists of randomly generated data points, we can just create more data to use as a test set and create a corresponding dataloader.\n",
        "*   Just as you did before, create a dataset.  This time, create a dataset with 500 entries and call it `test_dataset`.\n",
        "*   Create a dataloader, called `test_data_loader` setting `batch_size=128`, `shuffle=False`, and `drop_last=False`.\n"
      ]
    },
    {
      "cell_type": "code",
      "execution_count": 78,
      "metadata": {
        "id": "eAkvEKsAHlfd"
      },
      "outputs": [],
      "source": [
        "test_dataset = XORDataset(500)\n",
        "test_data_loader = data.DataLoader(test_dataset,batch_size=128,shuffle=False,drop_last=False )"
      ]
    },
    {
      "cell_type": "markdown",
      "metadata": {
        "id": "IWc-sswPHlfk"
      },
      "source": [
        "---\n",
        "## Part 27 (2 points)\n",
        "As metric, we will use accuracy which is calculated as follows:\n",
        "\n",
        "$$acc = \\frac{\\#\\text{correct predictions}}{\\#\\text{all predictions}} = \\frac{TP+TN}{TP+TN+FP+FN}$$\n",
        "\n",
        "where TP are the true positives, TN true negatives, FP false positives, and FN the fale negatives.\n",
        "\n",
        "When evaluating the model, we don't need to keep track of the computation graph as we don't intend to calculate the gradients. This reduces the required memory and speeds up the model. In PyTorch, we can deactivate the computation graph using `with torch.no_grad(): ...`. We also have to set the model to eval mode.\n",
        "*   Fill in code where indicated below to complete the model evaluation function\n",
        "*   Run the model evaluation function"
      ]
    },
    {
      "cell_type": "code",
      "execution_count": 80,
      "metadata": {
        "id": "XVc-DErPHlfk"
      },
      "outputs": [],
      "source": [
        "def eval_model(model, data_loader):\n",
        "    model.eval() # Set model to eval mode\n",
        "    true_preds, num_preds = 0., 0.\n",
        "\n",
        "    with torch.no_grad(): # Deactivate gradients for the following code\n",
        "        for data_inputs, data_labels in data_loader:\n",
        "\n",
        "            # FILL IN CODE HERE:  Determine prediction of model on testing data.\n",
        "            # Send data_inputs and data_labels to your device\n",
        "            data_inputs = data_inputs.to(device)\n",
        "            data_labels = data_labels.to(device)\n",
        "            #vRun your model on the data_inputs and remove singleton dimensions\n",
        "            preds = model(data_inputs)\n",
        "            preds = preds.squeeze(dim=1)\n",
        "            preds = torch.sigmoid(preds) # Sigmoid to map predictions between 0 and 1\n",
        "            pred_labels = (preds >= 0.5).long() # Binarize predictions to 0 and 1\n",
        "\n",
        "            # FILL IN CODE HERE: Update running totals of true positives and the number of predictions made\n",
        "            true_preds += (pred_labels == data_labels).sum().item()\n",
        "            num_preds += len(data_labels)\n",
        "\n",
        "    acc = true_preds / num_preds\n",
        "\n",
        "    print(f\"Accuracy of the model: {100.0*acc:4.2f}%\")\n"
      ]
    },
    {
      "cell_type": "code",
      "execution_count": 81,
      "metadata": {
        "id": "R1vHKYTXHlfl",
        "outputId": "927c5e49-d447-4304-836c-2a266eb14225",
        "colab": {
          "base_uri": "https://localhost:8080/"
        }
      },
      "outputs": [
        {
          "output_type": "stream",
          "name": "stdout",
          "text": [
            "Accuracy of the model: 100.00%\n"
          ]
        }
      ],
      "source": [
        "eval_model(model,data_loader)"
      ]
    },
    {
      "cell_type": "markdown",
      "metadata": {
        "id": "D4xID5dTHlfl"
      },
      "source": [
        "If we trained our model correctly, we should see a score close to 100% accuracy. However, this is only possible because of our simple task, and unfortunately, we usually don't get such high scores on test sets of more complex tasks."
      ]
    }
  ],
  "metadata": {
    "kernelspec": {
      "display_name": "Python 3 (ipykernel)",
      "language": "python",
      "name": "python3"
    },
    "language_info": {
      "codemirror_mode": {
        "name": "ipython",
        "version": 3
      },
      "file_extension": ".py",
      "mimetype": "text/x-python",
      "name": "python",
      "nbconvert_exporter": "python",
      "pygments_lexer": "ipython3",
      "version": "3.10.6"
    },
    "colab": {
      "provenance": [],
      "include_colab_link": true
    },
    "gpuClass": "standard",
    "accelerator": "GPU"
  },
  "nbformat": 4,
  "nbformat_minor": 0
}